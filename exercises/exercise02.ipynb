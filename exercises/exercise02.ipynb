{
 "cells": [
  {
   "cell_type": "markdown",
   "metadata": {
    "id": "7rXHK3D8WFlS"
   },
   "source": [
    "# Exercise 2"
   ]
  },
  {
   "cell_type": "markdown",
   "metadata": {
    "id": "wvFaK4IPWFlW"
   },
   "source": [
    "## Group\n",
    "- **ID**: 5\n",
    "\n",
    "- **Members**:\n",
    "    - Hasan Algafri\n",
    "    - Emre Dursunluer\n",
    "    - Taha El Amine Kassabi"
   ]
  },
  {
   "cell_type": "markdown",
   "metadata": {
    "id": "ayhisxUGWFlX"
   },
   "source": [
    "## Hand-in\n",
    "- Please hand in this notebook with your code implementation via Ilias\n",
    "- Please make sure that there is exactly **one** submission per group"
   ]
  },
  {
   "cell_type": "markdown",
   "metadata": {
    "id": "1EDDDMUAWFlX"
   },
   "source": [
    "## Task Description\n",
    "\n",
    "Write a custom fused ReLU class for 2D tensors, that implements **vector addition and ReLU**, with the **forward** pass. Then write a fused ReLU Triton kernel for 2D tensors that performs the **vector addition and ReLU** with the **forward** pass and computes its matching **backward** pass. Verify that both implementations produce the same outputs and gradients on random inputs and write a benchmark test with 'triton.testing' to showcase the efficiency of Triton in comparison to Torch. And you should look into **PyTorch's JIT** to make your pytorch implementation more efficient."
   ]
  },
  {
   "cell_type": "markdown",
   "metadata": {
    "id": "pEoAUKNZWFlX"
   },
   "source": [
    "## Grading scheme\n",
    "Total: 5 points\n",
    "1. **Implementation of the forward pass for the fused ReLU with PyTorch** (0.5 points)\n",
    "2. **Implementation of the forward & backward pass for the fused ReLU with Triton** (4 points)\n",
    "3. **Verify outputs & benchmark test** (0.5 points)"
   ]
  },
  {
   "cell_type": "markdown",
   "metadata": {
    "id": "gSP2KzR2WFlX"
   },
   "source": [
    "## Code"
   ]
  },
  {
   "cell_type": "code",
   "metadata": {
    "id": "7_u2od9bODIg",
    "ExecuteTime": {
     "end_time": "2025-05-08T05:35:25.464408Z",
     "start_time": "2025-05-08T05:35:24.279492Z"
    }
   },
   "source": [
    "import gc\n",
    "import torch\n",
    "import torch.nn.functional as F\n",
    "import triton.language as tl\n",
    "import triton\n",
    "from matplotlib.pyplot import title\n",
    "from triton.testing import do_bench"
   ],
   "outputs": [],
   "execution_count": 1
  },
  {
   "metadata": {
    "id": "B5ekmafzWFlY"
   },
   "cell_type": "code",
   "outputs": [],
   "execution_count": 2,
   "source": [
    "BLOCK_SIZE = 1 << 10\n",
    "TEST_MATRIX_SIZE = 1 << 14\n",
    "\n",
    "x = torch.randn(TEST_MATRIX_SIZE, TEST_MATRIX_SIZE, device='cuda')\n",
    "y = torch.randn(TEST_MATRIX_SIZE, TEST_MATRIX_SIZE, device='cuda')"
   ]
  },
  {
   "cell_type": "markdown",
   "metadata": {
    "id": "9ZV_YYI-WFlY"
   },
   "source": [
    "### 1. Implementation of the forward pass for the fused ReLU with PyTorch (0.5 points)"
   ]
  },
  {
   "metadata": {
    "id": "BgVU75KsWFlY"
   },
   "cell_type": "code",
   "outputs": [],
   "execution_count": 3,
   "source": [
    "class FusedReLU(torch.jit.ScriptModule):\n",
    "    def __init__(self):\n",
    "        super(FusedReLU, self).__init__()\n",
    "\n",
    "    @torch.jit.script_method\n",
    "    def forward(self, x, y):\n",
    "        return F.relu(x + y)"
   ]
  },
  {
   "metadata": {
    "colab": {
     "base_uri": "https://localhost:8080/"
    },
    "id": "o-WcMhSkWFlY",
    "outputId": "abfb4619-6e43-4b53-c66b-8a8b479e02d5"
   },
   "cell_type": "code",
   "outputs": [
    {
     "output_type": "stream",
     "name": "stdout",
     "text": [
      "Output (PyTorch): tensor([[0.0000, 0.0000, 0.0000,  ..., 2.6486, 0.3950, 0.0000],\n",
      "        [0.0000, 0.0000, 0.0000,  ..., 1.0757, 0.5655, 1.6483],\n",
      "        [2.2259, 0.0000, 0.4128,  ..., 0.0000, 0.0000, 0.0000],\n",
      "        ...,\n",
      "        [0.0000, 2.2545, 0.2008,  ..., 0.4860, 1.0821, 0.0000],\n",
      "        [0.0252, 1.8533, 0.0000,  ..., 1.1816, 0.4888, 0.0000],\n",
      "        [0.0000, 0.0000, 0.0000,  ..., 0.5543, 0.4526, 0.0000]],\n",
      "       device='cuda:0')\n"
     ]
    }
   ],
   "execution_count": 4,
   "source": [
    "f_torch = FusedReLU().cuda()\n",
    "output_torch = f_torch(x, y)\n",
    "print(\"Output (PyTorch):\", output_torch)"
   ]
  },
  {
   "cell_type": "markdown",
   "metadata": {
    "id": "5-k_KCHGWFlY"
   },
   "source": [
    "### 2. Implementation of the forward & backward pass for the fused ReLU with Triton (4 points)"
   ]
  },
  {
   "cell_type": "code",
   "execution_count": 5,
   "metadata": {
    "id": "shdu_FcfWFlY"
   },
   "outputs": [],
   "source": [
    "@triton.jit\n",
    "def get_offset(row, col, stride_row, stride_col):\n",
    "    return row * stride_row + col * stride_col"
   ]
  },
  {
   "metadata": {
    "id": "GL2na8CaWFlZ"
   },
   "cell_type": "code",
   "outputs": [],
   "execution_count": 6,
   "source": [
    "@triton.jit\n",
    "def get_offsets_and_mask_forward(a, b, c, n, bs_n,\n",
    "    stride_am, stride_an,\n",
    "    stride_bm, stride_bn,\n",
    "    stride_cm, stride_cn):\n",
    "    pid_m, pid_n = tl.program_id(0), tl.program_id(1)\n",
    "    rm = pid_m + tl.arange(0,1)[:, None]\n",
    "    rn = pid_n * bs_n + tl.arange(0, bs_n)[None, :]\n",
    "\n",
    "    offs_a = a + get_offset(rm, rn, stride_am, stride_an)\n",
    "    offs_b = b + get_offset(rm, rn, stride_bm, stride_bn)\n",
    "    offs_c = c + get_offset(rm, rn, stride_cm, stride_cn)\n",
    "\n",
    "    mask = rn < n\n",
    "\n",
    "    return offs_a, offs_b, offs_c, mask\n",
    "\n",
    "\n",
    "@triton.jit\n",
    "def fused_relu_forward_kernel(a, b, c, n, bs_n: tl.constexpr,\n",
    "    stride_am, stride_an,\n",
    "    stride_bm, stride_bn,\n",
    "    stride_cm, stride_cn):\n",
    "    offs_a, offs_b, offs_c, mask = get_offsets_and_mask_forward(a, b, c, n, bs_n,\n",
    "                                                                stride_am, stride_an,\n",
    "                                                                stride_bm, stride_bn,\n",
    "                                                                stride_cm, stride_cn)\n",
    "\n",
    "    a_chunk, b_chunk = tl.load(offs_a, mask=mask), tl.load(offs_b, mask=mask)\n",
    "\n",
    "    c_chunk = a_chunk + b_chunk\n",
    "    c_chunk = tl.where(c_chunk > 0, c_chunk, 0)\n",
    "\n",
    "    tl.store(offs_c, c_chunk, mask)"
   ]
  },
  {
   "metadata": {
    "id": "QfsRexlqWFlZ"
   },
   "cell_type": "code",
   "outputs": [],
   "execution_count": 7,
   "source": [
    "@triton.jit\n",
    "def get_offsets_and_mask_backward(a, b, n, bs_n,\n",
    "    stride_am, stride_an,\n",
    "    stride_bm, stride_bn):\n",
    "    pid_m, pid_n = tl.program_id(0), tl.program_id(1)\n",
    "    rm = pid_m + tl.arange(0,1)[:, None]\n",
    "    rn = pid_n * bs_n + tl.arange(0, bs_n)[None, :]\n",
    "\n",
    "    offs_a = a + get_offset(rm, rn, stride_am, stride_an)\n",
    "    offs_b = b + get_offset(rm, rn, stride_bm, stride_bn)\n",
    "\n",
    "    mask = rn < n\n",
    "\n",
    "    return offs_a, offs_b, mask\n",
    "\n",
    "\n",
    "@triton.jit\n",
    "def fused_relu_backward_kernel(grad_in, grad_out, n, bs_n: tl.constexpr,\n",
    "    stride_in_m, stride_in_n,\n",
    "    stride_out_m, stride_out_n):\n",
    "    offs_in, offs_out, mask = get_offsets_and_mask_backward(grad_in, grad_out, n, bs_n,\n",
    "                                                            stride_in_m, stride_in_n,\n",
    "                                                            stride_out_m, stride_out_n)\n",
    "\n",
    "    in_chunk = tl.load(offs_in, mask=mask)\n",
    "\n",
    "    out_chunk = tl.where(in_chunk > 0, in_chunk, 0)\n",
    "\n",
    "    tl.store(offs_out, out_chunk, mask)"
   ]
  },
  {
   "metadata": {
    "id": "CM2hdCkQWFlZ"
   },
   "cell_type": "code",
   "outputs": [],
   "execution_count": 8,
   "source": [
    "class FusedReLUTriton(torch.autograd.Function):\n",
    "    @staticmethod\n",
    "    def forward(ctx, a, b):\n",
    "        assert a.shape == b.shape, \"a, b shape mismatch\"\n",
    "        assert len(a.shape) == 2, \"must be 2d tensor\"\n",
    "\n",
    "        c = torch.empty_like(a)\n",
    "\n",
    "        grid = (a.shape[0],triton.cdiv(a.shape[1], BLOCK_SIZE))\n",
    "        fused_relu_forward_kernel[grid](a, b, c, a.shape[1], BLOCK_SIZE,\n",
    "                                        a.stride(0), a.stride(1),\n",
    "                                        b.stride(0), b.stride(1),\n",
    "                                        c.stride(0), c.stride(1))\n",
    "\n",
    "        ctx.save_for_backward(a, b, c)\n",
    "\n",
    "        return c\n",
    "\n",
    "    @staticmethod\n",
    "    def backward(ctx, grad_output):\n",
    "        grad_in = grad_output.clone()\n",
    "        grad_out = torch.empty_like(grad_in)\n",
    "\n",
    "        grid = (grad_in.shape[0],triton.cdiv(grad_in.shape[1], BLOCK_SIZE))\n",
    "        fused_relu_backward_kernel[grid](grad_in, grad_out, grad_in.shape[1], BLOCK_SIZE,\n",
    "                                         grad_in.stride(0), grad_in.stride(1),\n",
    "                                         grad_in.stride(0), grad_in.stride(1))\n",
    "        return grad_out, grad_out"
   ]
  },
  {
   "metadata": {
    "colab": {
     "base_uri": "https://localhost:8080/"
    },
    "id": "BA1eiLRWWFlZ",
    "outputId": "f1cd5189-b34b-4a3a-e0ad-47b1626426c7"
   },
   "cell_type": "code",
   "outputs": [
    {
     "output_type": "stream",
     "name": "stdout",
     "text": [
      "Output (Triton): tensor([[0.0000, 0.0000, 0.0000,  ..., 2.6486, 0.3950, 0.0000],\n",
      "        [0.0000, 0.0000, 0.0000,  ..., 1.0757, 0.5655, 1.6483],\n",
      "        [2.2259, 0.0000, 0.4128,  ..., 0.0000, 0.0000, 0.0000],\n",
      "        ...,\n",
      "        [0.0000, 2.2545, 0.2008,  ..., 0.4860, 1.0821, 0.0000],\n",
      "        [0.0252, 1.8533, 0.0000,  ..., 1.1816, 0.4888, 0.0000],\n",
      "        [0.0000, 0.0000, 0.0000,  ..., 0.5543, 0.4526, 0.0000]],\n",
      "       device='cuda:0')\n"
     ]
    }
   ],
   "execution_count": 9,
   "source": [
    "f_triton = FusedReLUTriton.apply\n",
    "output_triton = f_triton(x, y)\n",
    "print(\"Output (Triton):\", output_triton)"
   ]
  },
  {
   "cell_type": "markdown",
   "metadata": {
    "id": "tec7T184WFla"
   },
   "source": [
    "### 3. Verify outputs & benchmark test (0.5 points)"
   ]
  },
  {
   "cell_type": "code",
   "execution_count": 10,
   "metadata": {
    "colab": {
     "base_uri": "https://localhost:8080/"
    },
    "id": "qeRg7yCvWFla",
    "outputId": "dde12d9a-94e5-40e7-fd4f-54866283f4e6"
   },
   "outputs": [
    {
     "output_type": "stream",
     "name": "stdout",
     "text": [
      "Outputs match!\n"
     ]
    }
   ],
   "source": [
    "torch.testing.assert_close(output_torch, output_triton)\n",
    "print(\"Outputs match!\")"
   ]
  },
  {
   "metadata": {
    "colab": {
     "base_uri": "https://localhost:8080/"
    },
    "id": "a60SEHjlWFla",
    "outputId": "0ca2f53b-47d3-4665-a535-a7ae58fcaf72"
   },
   "cell_type": "code",
   "outputs": [
    {
     "output_type": "stream",
     "name": "stdout",
     "text": [
      "PyTorch time: 12.196809768676758 ms\n",
      "Triton time: 13.495221138000488 ms\n"
     ]
    }
   ],
   "execution_count": 11,
   "source": [
    "torch_time = do_bench(lambda: f_torch(x, y))\n",
    "triton_time = do_bench(lambda: f_triton(x, y))\n",
    "\n",
    "print(f\"PyTorch time: {torch_time} ms\")\n",
    "print(f\"Triton time: {triton_time} ms\")"
   ]
  },
  {
   "metadata": {
    "colab": {
     "base_uri": "https://localhost:8080/"
    },
    "id": "fhpaqEOcWFla",
    "outputId": "494d4169-0d02-4e06-e43e-0429742bf1ed"
   },
   "cell_type": "code",
   "outputs": [
    {
     "output_type": "stream",
     "name": "stdout",
     "text": [
      "Gradients match!\n"
     ]
    }
   ],
   "execution_count": 12,
   "source": [
    "gc.collect()\n",
    "torch.random.manual_seed(42)\n",
    "size_x, size_y = torch.randint(1 << 11, 1 << 12, (2,))\n",
    "\n",
    "x_torch = torch.randn(size_x, size_y, device='cuda', requires_grad=True)\n",
    "y_torch = torch.randn(size_x, size_y, device='cuda', requires_grad=True)\n",
    "output_torch = f_triton(x_torch, y_torch)\n",
    "loss_torch = output_torch.sum()\n",
    "loss_torch.backward()\n",
    "\n",
    "x_triton = x_torch.clone().detach().requires_grad_(True)\n",
    "y_triton = y_torch.clone().detach().requires_grad_(True)\n",
    "output_triton = f_triton(x_triton, y_triton)\n",
    "loss_triton = output_triton.sum()\n",
    "loss_triton.backward()\n",
    "\n",
    "torch.testing.assert_close(x_torch.grad, x_triton.grad)\n",
    "torch.testing.assert_close(y_torch.grad, y_triton.grad)\n",
    "print(\"Gradients match!\")"
   ]
  },
  {
   "metadata": {
    "colab": {
     "base_uri": "https://localhost:8080/",
     "height": 709
    },
    "id": "V1f1Ae4oWFla",
    "outputId": "098fa3e2-2df7-42dc-da7a-dddf3dbc135e"
   },
   "cell_type": "code",
   "outputs": [
    {
     "output_type": "display_data",
     "data": {
      "text/plain": [
       "<Figure size 640x480 with 1 Axes>"
      ],
      "image/png": "[encoded data removed]"
     },
     "metadata": {}
    },
    {
     "output_type": "stream",
     "name": "stdout",
     "text": [
      "fused-relu-performance:\n",
      "       size    Triton     Torch\n",
      "0       4.0  0.000008  0.000008\n",
      "1       8.0  0.000031  0.000043\n",
      "2      16.0  0.000125  0.000125\n",
      "3      32.0  0.000496  0.000500\n",
      "4      64.0  0.001896  0.001984\n",
      "5     128.0  0.006321  0.006400\n",
      "6     256.0  0.017319  0.016856\n",
      "7     512.0  0.028947  0.031148\n",
      "8    1024.0  0.036612  0.039010\n",
      "9    2048.0  0.038905  0.041743\n",
      "10   4096.0  0.039386  0.042556\n",
      "11   8192.0  0.039408  0.043114\n",
      "12  16384.0  0.039992  0.043193\n"
     ]
    }
   ],
   "execution_count": 13,
   "source": [
    "@triton.testing.perf_report(\n",
    "    triton.testing.Benchmark(\n",
    "        x_names=['size'],\n",
    "        x_vals=[1 << i for i in range(2, 15)],\n",
    "        x_log=True,\n",
    "        line_arg='provider',\n",
    "        line_vals=['triton', 'torch'],\n",
    "        line_names=['Triton', 'Torch'],\n",
    "        styles=[('blue', '-'), ('green', '-')],\n",
    "        ylabel='TFLOPS',\n",
    "        plot_name='fused-relu-performance',\n",
    "        args={},\n",
    "    )\n",
    ")\n",
    "def benchmark(size, provider):\n",
    "    x = torch.rand((size, size), device='cuda', dtype=torch.float32)\n",
    "    y = torch.rand((size, size), device='cuda', dtype=torch.float32)\n",
    "    quantiles = [0.5, 0.2, 0.8]\n",
    "\n",
    "    f = FusedReLU().cuda() if provider == 'torch' else f_triton\n",
    "    ms, min_ms, max_ms = triton.testing.do_bench(lambda: f(x, y), quantiles=quantiles)\n",
    "\n",
    "    to_tflops = lambda ms: 2 * size * size * 1e-12 / (ms * 1e-3)\n",
    "    return to_tflops(ms), to_tflops(max_ms), to_tflops(min_ms)\n",
    "\n",
    "\n",
    "benchmark.run(print_data=True, show_plots=True)"
   ]
  }
 ],
 "metadata": {
  "accelerator": "GPU",
  "colab": {
   "gpuType": "T4",
   "provenance": []
  },
  "kernelspec": {
   "display_name": "study",
   "language": "python",
   "name": "python3"
  },
  "language_info": {
   "codemirror_mode": {
    "name": "ipython",
    "version": 3
   },
   "file_extension": ".py",
   "mimetype": "text/x-python",
   "name": "python",
   "nbconvert_exporter": "python",
   "pygments_lexer": "ipython3",
   "version": "3.13.2"
  }
 },
 "nbformat": 4,
 "nbformat_minor": 0
}
