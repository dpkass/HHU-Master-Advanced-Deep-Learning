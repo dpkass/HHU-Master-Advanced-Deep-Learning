{
  "cells": [
    {
      "cell_type": "markdown",
      "id": "4ea1998b",
      "metadata": {
        "id": "4ea1998b"
      },
      "source": [
        "# Exercise 3"
      ]
    },
    {
      "cell_type": "markdown",
      "id": "3854f7b7",
      "metadata": {
        "id": "3854f7b7"
      },
      "source": [
        "## Group\n",
        "- **ID**: 5\n",
        "\n",
        "- **Members**:\n",
        "    - Hasan Algafri\n",
        "    - Emre Dursunluer\n",
        "    - Taha El Amine Kassabi"
      ]
    },
    {
      "cell_type": "markdown",
      "id": "44f91a77",
      "metadata": {
        "id": "44f91a77"
      },
      "source": [
        "## Hand-in\n",
        "- Please hand in this notebook with your code implementation via Ilias\n",
        "- Please make sure that there is exactly **one** submission per group"
      ]
    },
    {
      "cell_type": "markdown",
      "id": "1e9912ed",
      "metadata": {
        "id": "1e9912ed"
      },
      "source": [
        "## Task Description\n",
        "\n",
        "In this exercise, you will implement Supervised Finetuning (SFT) for the pretrained GPT-2 model. You should use the `transformers` library to load the pretrained model and tokenizer. You will finetune the model on the `Alpaca` dataset, which is a collection of instruction-following examples. The dataset can be found [here](https://huggingface.co/datasets/tatsu-lab/alpaca).\n",
        "Your implementation should contain the four parts specified below."
      ]
    },
    {
      "cell_type": "markdown",
      "id": "179cb37b",
      "metadata": {
        "id": "179cb37b"
      },
      "source": [
        "## Grading scheme\n",
        "Total: 5 points\n",
        "1. **Preparing the Dataloader** (1 point)\n",
        "2. **Sensible Configurations** (1 point)\n",
        "3. **Training loop** (2 points)\n",
        "4. **Generation of Question Answer pairs** (1 point)"
      ]
    },
    {
      "metadata": {
        "id": "cfb5e28054d7fc8f"
      },
      "cell_type": "markdown",
      "source": [
        "## Task 1: Preparing the data"
      ],
      "id": "cfb5e28054d7fc8f"
    },
    {
      "cell_type": "code",
      "source": [
        "!pip install -U datasets"
      ],
      "metadata": {
        "colab": {
          "base_uri": "https://localhost:8080/"
        },
        "id": "KSJiQyGmL5HS",
        "outputId": "a8a7403f-90e3-454b-f022-f130ed1107b8"
      },
      "id": "KSJiQyGmL5HS",
      "execution_count": 1,
      "outputs": [
        {
          "output_type": "stream",
          "name": "stdout",
          "text": [
            "Requirement already satisfied: datasets in /usr/local/lib/python3.11/dist-packages (3.6.0)\n",
            "Requirement already satisfied: filelock in /usr/local/lib/python3.11/dist-packages (from datasets) (3.18.0)\n",
            "Requirement already satisfied: numpy>=1.17 in /usr/local/lib/python3.11/dist-packages (from datasets) (2.0.2)\n",
            "Requirement already satisfied: pyarrow>=15.0.0 in /usr/local/lib/python3.11/dist-packages (from datasets) (18.1.0)\n",
            "Requirement already satisfied: dill<0.3.9,>=0.3.0 in /usr/local/lib/python3.11/dist-packages (from datasets) (0.3.7)\n",
            "Requirement already satisfied: pandas in /usr/local/lib/python3.11/dist-packages (from datasets) (2.2.2)\n",
            "Requirement already satisfied: requests>=2.32.2 in /usr/local/lib/python3.11/dist-packages (from datasets) (2.32.3)\n",
            "Requirement already satisfied: tqdm>=4.66.3 in /usr/local/lib/python3.11/dist-packages (from datasets) (4.67.1)\n",
            "Requirement already satisfied: xxhash in /usr/local/lib/python3.11/dist-packages (from datasets) (3.5.0)\n",
            "Requirement already satisfied: multiprocess<0.70.17 in /usr/local/lib/python3.11/dist-packages (from datasets) (0.70.15)\n",
            "Requirement already satisfied: fsspec<=2025.3.0,>=2023.1.0 in /usr/local/lib/python3.11/dist-packages (from fsspec[http]<=2025.3.0,>=2023.1.0->datasets) (2025.3.0)\n",
            "Requirement already satisfied: huggingface-hub>=0.24.0 in /usr/local/lib/python3.11/dist-packages (from datasets) (0.31.2)\n",
            "Requirement already satisfied: packaging in /usr/local/lib/python3.11/dist-packages (from datasets) (24.2)\n",
            "Requirement already satisfied: pyyaml>=5.1 in /usr/local/lib/python3.11/dist-packages (from datasets) (6.0.2)\n",
            "Requirement already satisfied: aiohttp!=4.0.0a0,!=4.0.0a1 in /usr/local/lib/python3.11/dist-packages (from fsspec[http]<=2025.3.0,>=2023.1.0->datasets) (3.11.15)\n",
            "Requirement already satisfied: typing-extensions>=3.7.4.3 in /usr/local/lib/python3.11/dist-packages (from huggingface-hub>=0.24.0->datasets) (4.13.2)\n",
            "Requirement already satisfied: charset-normalizer<4,>=2 in /usr/local/lib/python3.11/dist-packages (from requests>=2.32.2->datasets) (3.4.2)\n",
            "Requirement already satisfied: idna<4,>=2.5 in /usr/local/lib/python3.11/dist-packages (from requests>=2.32.2->datasets) (3.10)\n",
            "Requirement already satisfied: urllib3<3,>=1.21.1 in /usr/local/lib/python3.11/dist-packages (from requests>=2.32.2->datasets) (2.4.0)\n",
            "Requirement already satisfied: certifi>=2017.4.17 in /usr/local/lib/python3.11/dist-packages (from requests>=2.32.2->datasets) (2025.4.26)\n",
            "Requirement already satisfied: python-dateutil>=2.8.2 in /usr/local/lib/python3.11/dist-packages (from pandas->datasets) (2.9.0.post0)\n",
            "Requirement already satisfied: pytz>=2020.1 in /usr/local/lib/python3.11/dist-packages (from pandas->datasets) (2025.2)\n",
            "Requirement already satisfied: tzdata>=2022.7 in /usr/local/lib/python3.11/dist-packages (from pandas->datasets) (2025.2)\n",
            "Requirement already satisfied: aiohappyeyeballs>=2.3.0 in /usr/local/lib/python3.11/dist-packages (from aiohttp!=4.0.0a0,!=4.0.0a1->fsspec[http]<=2025.3.0,>=2023.1.0->datasets) (2.6.1)\n",
            "Requirement already satisfied: aiosignal>=1.1.2 in /usr/local/lib/python3.11/dist-packages (from aiohttp!=4.0.0a0,!=4.0.0a1->fsspec[http]<=2025.3.0,>=2023.1.0->datasets) (1.3.2)\n",
            "Requirement already satisfied: attrs>=17.3.0 in /usr/local/lib/python3.11/dist-packages (from aiohttp!=4.0.0a0,!=4.0.0a1->fsspec[http]<=2025.3.0,>=2023.1.0->datasets) (25.3.0)\n",
            "Requirement already satisfied: frozenlist>=1.1.1 in /usr/local/lib/python3.11/dist-packages (from aiohttp!=4.0.0a0,!=4.0.0a1->fsspec[http]<=2025.3.0,>=2023.1.0->datasets) (1.6.0)\n",
            "Requirement already satisfied: multidict<7.0,>=4.5 in /usr/local/lib/python3.11/dist-packages (from aiohttp!=4.0.0a0,!=4.0.0a1->fsspec[http]<=2025.3.0,>=2023.1.0->datasets) (6.4.3)\n",
            "Requirement already satisfied: propcache>=0.2.0 in /usr/local/lib/python3.11/dist-packages (from aiohttp!=4.0.0a0,!=4.0.0a1->fsspec[http]<=2025.3.0,>=2023.1.0->datasets) (0.3.1)\n",
            "Requirement already satisfied: yarl<2.0,>=1.17.0 in /usr/local/lib/python3.11/dist-packages (from aiohttp!=4.0.0a0,!=4.0.0a1->fsspec[http]<=2025.3.0,>=2023.1.0->datasets) (1.20.0)\n",
            "Requirement already satisfied: six>=1.5 in /usr/local/lib/python3.11/dist-packages (from python-dateutil>=2.8.2->pandas->datasets) (1.17.0)\n"
          ]
        }
      ]
    },
    {
      "metadata": {
        "id": "2307b64c058597ae"
      },
      "cell_type": "code",
      "source": [
        "import os\n",
        "from functools import partial\n",
        "\n",
        "import torch\n",
        "from IPython.core.debugger import prompt\n",
        "from torch.optim import AdamW\n",
        "from torch.utils.data import Dataset, DataLoader\n",
        "from datasets import load_dataset\n",
        "from transformers import GPT2LMHeadModel, GPT2Tokenizer\n",
        "from tqdm.auto import tqdm, trange"
      ],
      "id": "2307b64c058597ae",
      "outputs": [],
      "execution_count": 2
    },
    {
      "metadata": {
        "colab": {
          "base_uri": "https://localhost:8080/"
        },
        "id": "f143b447df19a2ee",
        "outputId": "56cdff28-5347-48b3-8da6-a18a8355b17e"
      },
      "cell_type": "code",
      "source": [
        "load_dataset('tatsu-lab/alpaca')"
      ],
      "id": "f143b447df19a2ee",
      "outputs": [
        {
          "output_type": "stream",
          "name": "stderr",
          "text": [
            "/usr/local/lib/python3.11/dist-packages/huggingface_hub/utils/_auth.py:94: UserWarning: \n",
            "The secret `HF_TOKEN` does not exist in your Colab secrets.\n",
            "To authenticate with the Hugging Face Hub, create a token in your settings tab (https://huggingface.co/settings/tokens), set it as secret in your Google Colab and restart your session.\n",
            "You will be able to reuse this secret in all of your notebooks.\n",
            "Please note that authentication is recommended but still optional to access public models or datasets.\n",
            "  warnings.warn(\n"
          ]
        },
        {
          "output_type": "execute_result",
          "data": {
            "text/plain": [
              "DatasetDict({\n",
              "    train: Dataset({\n",
              "        features: ['instruction', 'input', 'output', 'text'],\n",
              "        num_rows: 52002\n",
              "    })\n",
              "})"
            ]
          },
          "metadata": {},
          "execution_count": 3
        }
      ],
      "execution_count": 3
    },
    {
      "metadata": {
        "id": "4cb61133f93b83fe"
      },
      "cell_type": "code",
      "source": [
        "class AlpacaDataset(Dataset):\n",
        "\n",
        "    def __init__(self, data, return_full_text=True):\n",
        "        self.data = [instance['text'] for instance in data]\n",
        "        self.return_full_text = return_full_text\n",
        "\n",
        "        response_start = 'Response:\\n'\n",
        "        self.prompt_ends = [instance['text'].find(response_start) + len(response_start) for instance in data]\n",
        "\n",
        "    def __len__(self):\n",
        "        return len(self.data)\n",
        "\n",
        "    def __getitem__(self, idx):\n",
        "        prompt = self.data[idx][:self.prompt_ends[idx]]\n",
        "        if self.return_full_text:\n",
        "            return prompt, self.data[idx]\n",
        "        else:\n",
        "            return None, prompt"
      ],
      "id": "4cb61133f93b83fe",
      "outputs": [],
      "execution_count": 4
    },
    {
      "metadata": {
        "id": "22f7a5ec8ddd9bd5"
      },
      "cell_type": "code",
      "source": [
        "def custom_collate_fn(batch, tokenizer):\n",
        "    prompts, texts = zip(*batch)\n",
        "\n",
        "    encodings = tokenizer(\n",
        "        texts,\n",
        "        padding='longest',\n",
        "        truncation=True,\n",
        "        return_tensors='pt',\n",
        "        return_attention_mask=True,\n",
        "        add_special_tokens=True\n",
        "    )\n",
        "\n",
        "    input_ids = encodings['input_ids']\n",
        "    attention_mask = encodings['attention_mask']\n",
        "\n",
        "    if prompts[0] is None:\n",
        "        prompt_mask = False\n",
        "        prompts = texts\n",
        "    else:\n",
        "        prompt_encodings = tokenizer(prompts,\n",
        "                                     padding=False,\n",
        "                                     truncation=True)\n",
        "        prompt_lengths = torch.tensor([len(ids) for ids in prompt_encodings['input_ids']], device=input_ids.device)\n",
        "        prompt_mask = torch.arange(input_ids.size(1)).unsqueeze(0) < prompt_lengths.unsqueeze(1)\n",
        "\n",
        "    labels = input_ids.clone()\n",
        "    labels[(attention_mask == 0) | prompt_mask] = -100\n",
        "\n",
        "    return {\n",
        "        'input_ids': input_ids,\n",
        "        'attention_mask': attention_mask,\n",
        "        'labels': labels,\n",
        "        'prompts': prompts,\n",
        "    }"
      ],
      "id": "22f7a5ec8ddd9bd5",
      "outputs": [],
      "execution_count": 5
    },
    {
      "metadata": {
        "id": "4ddf68bdadc5cf87"
      },
      "cell_type": "code",
      "source": [
        "def load_data(collate_fn, batch_size=8, test_size=0.05, num_workers=0):\n",
        "    data = load_dataset('tatsu-lab/alpaca')['train'].train_test_split(test_size=test_size, shuffle=True)\n",
        "\n",
        "    train_ds, val_ds = AlpacaDataset(data['train']), AlpacaDataset(data['test'], return_full_text=False)\n",
        "\n",
        "    return (DataLoader(train_ds, batch_size=batch_size, collate_fn=collate_fn, num_workers=num_workers, shuffle=True),\n",
        "            DataLoader(val_ds, collate_fn=collate_fn, num_workers=num_workers))"
      ],
      "id": "4ddf68bdadc5cf87",
      "outputs": [],
      "execution_count": 6
    },
    {
      "metadata": {
        "id": "9c88340cd5ab9338"
      },
      "cell_type": "markdown",
      "source": [
        "## Task 2: Sensible Config"
      ],
      "id": "9c88340cd5ab9338"
    },
    {
      "metadata": {
        "colab": {
          "base_uri": "https://localhost:8080/"
        },
        "id": "3a678732a22c268",
        "outputId": "419911a7-45fb-4eef-89b3-f8da169d1bb8"
      },
      "cell_type": "code",
      "source": [
        "class Configuration:\n",
        "    def __init__(self):\n",
        "        self.num_epochs = 3\n",
        "        self.device = torch.device('cuda' if torch.cuda.is_available() else 'mps' if torch.mps.is_available() else 'cpu')\n",
        "\n",
        "        self.model_name = 'gpt2'\n",
        "        self.tokenizer = GPT2Tokenizer.from_pretrained(self.model_name)\n",
        "        self.tokenizer.pad_token = self.tokenizer.eos_token\n",
        "        self.reset_model()\n",
        "\n",
        "        learning_rate = 1e-3\n",
        "        weight_decay = 1e-2\n",
        "        self.optimizer = AdamW(self.model.parameters(), lr=learning_rate, weight_decay=weight_decay)\n",
        "\n",
        "        collate_fn = partial(custom_collate_fn, tokenizer=self.tokenizer)\n",
        "\n",
        "        test_size = 1e-2\n",
        "        num_workers = 4\n",
        "        batch_size = 16\n",
        "        self.train_dl, self.val_dl = load_data(collate_fn, batch_size=batch_size, test_size=test_size, num_workers=num_workers)\n",
        "\n",
        "        self.model_path = './models/best_model_min_val_loss.pt'\n",
        "\n",
        "    def reset_model(self):\n",
        "        self.model = GPT2LMHeadModel.from_pretrained(self.model_name).to(self.device)\n",
        "        self.model = torch.compile(self.model)\n",
        "        self.model.config.use_cache = True\n",
        "\n",
        "\n",
        "config = Configuration()"
      ],
      "id": "3a678732a22c268",
      "outputs": [
        {
          "output_type": "stream",
          "name": "stderr",
          "text": [
            "/usr/local/lib/python3.11/dist-packages/torch/utils/data/dataloader.py:624: UserWarning: This DataLoader will create 4 worker processes in total. Our suggested max number of worker in current system is 2, which is smaller than what this DataLoader is going to create. Please be aware that excessive worker creation might get DataLoader running slow or even freeze, lower the worker number to avoid potential slowness/freeze if necessary.\n",
            "  warnings.warn(\n"
          ]
        }
      ],
      "execution_count": 7
    },
    {
      "metadata": {
        "colab": {
          "base_uri": "https://localhost:8080/"
        },
        "id": "b3498f889b345b7e",
        "outputId": "1a3b0211-9194-4309-a7d9-c6af19f07345"
      },
      "cell_type": "code",
      "source": [
        "for i, batch in enumerate(config.val_dl):\n",
        "    print(batch['input_ids'].shape)\n",
        "    print(batch['labels'])\n",
        "    if i == 3: break"
      ],
      "id": "b3498f889b345b7e",
      "outputs": [
        {
          "output_type": "stream",
          "name": "stdout",
          "text": [
            "torch.Size([1, 45])\n",
            "tensor([[21106,   318,   281, 12064,   326,  8477,   257,  4876,    13, 19430,\n",
            "           257,  2882,   326, 20431, 32543,   262,  2581,    13,   198,   198,\n",
            "         21017, 46486,    25,   198,  9771,  3129,   378,   262,  1612,   286,\n",
            "           262,  3146,   362,    11,    18,    11,    22,    11,    16,   198,\n",
            "           198, 21017, 18261,    25,   198]])\n",
            "torch.Size([1, 49])\n",
            "tensor([[21106,   318,   281, 12064,   326,  8477,   257,  4876,    13, 19430,\n",
            "           257,  2882,   326, 20431, 32543,   262,  2581,    13,   198,   198,\n",
            "         21017, 46486,    25,   198, 15946,   485,   257,  1351,   286,  4568,\n",
            "           329,   257,  1115,   614,  1468,  1141,   257,   718,    12,  9769,\n",
            "          6614,  6594,    13,   198,   198, 21017, 18261,    25,   198]])\n",
            "torch.Size([1, 42])\n",
            "tensor([[21106,   318,   281, 12064,   326,  8477,   257,  4876,    13, 19430,\n",
            "           257,  2882,   326, 20431, 32543,   262,  2581,    13,   198,   198,\n",
            "         21017, 46486,    25,   198,  3041,  5372,   262,  1708,  9546,   351,\n",
            "           257,  6171,  5177,    25,   845,   922,   198,   198, 21017, 18261,\n",
            "            25,   198]])\n",
            "torch.Size([1, 38])\n",
            "tensor([[21106,   318,   281, 12064,   326,  8477,   257,  4876,    13, 19430,\n",
            "           257,  2882,   326, 20431, 32543,   262,  2581,    13,   198,   198,\n",
            "         21017, 46486,    25,   198, 41248,   257,  1492,   326,  1266,  6688,\n",
            "         14736,    13,   198,   198, 21017, 18261,    25,   198]])\n"
          ]
        }
      ],
      "execution_count": 8
    },
    {
      "metadata": {
        "id": "af9ec9b2ae129a61"
      },
      "cell_type": "markdown",
      "source": [
        "## Task 3: Train loop"
      ],
      "id": "af9ec9b2ae129a61"
    },
    {
      "metadata": {
        "id": "c33d3613095d48cb"
      },
      "cell_type": "code",
      "source": [
        "def train_one_epoch(model, train_dl, optimizer, device):\n",
        "    model.train()\n",
        "    epoch_loss = 0\n",
        "    for batch in tqdm(train_dl):\n",
        "        input_ids = batch['input_ids'].to(device)\n",
        "        attention_mask = batch['attention_mask'].to(device)\n",
        "        labels = batch['labels'].to(device)\n",
        "\n",
        "        outputs = model(input_ids, attention_mask=attention_mask, labels=labels)\n",
        "        loss = outputs.loss\n",
        "        epoch_loss += loss.item()\n",
        "\n",
        "        optimizer.zero_grad()\n",
        "        loss.backward()\n",
        "        optimizer.step()\n",
        "\n",
        "    return epoch_loss / len(train_dl)\n",
        "\n",
        "\n",
        "@torch.inference_mode()\n",
        "def validate(model, val_dl, device):\n",
        "    model.eval()\n",
        "    epoch_loss = 0\n",
        "    for batch in tqdm(val_dl):\n",
        "        input_ids = batch['input_ids'].to(device)\n",
        "        attention_mask = batch['attention_mask'].to(device)\n",
        "        labels = batch['labels'].to(device)\n",
        "\n",
        "        outputs = model(input_ids, attention_mask=attention_mask, labels=labels)\n",
        "        loss = outputs.loss\n",
        "        epoch_loss += loss.item()\n",
        "\n",
        "    return epoch_loss / len(val_dl)\n",
        "\n",
        "\n",
        "def finetune(config):\n",
        "    model = config.model\n",
        "\n",
        "    dict_log = {'train_loss': [], 'val_loss': []}\n",
        "    best_val_loss = float('inf')\n",
        "    model = model.to(config.device)\n",
        "\n",
        "    pbar = trange(config.num_epochs)\n",
        "    for epoch in pbar:\n",
        "        train_loss = train_one_epoch(model, config.train_dl, config.optimizer, config.device)\n",
        "        val_loss = validate(model, config.val_dl, config.device)\n",
        "\n",
        "        pbar.set_postfix_str(f'Train Loss = {train_loss:.4f} | Val Loss = {val_loss:.4f}')\n",
        "\n",
        "        dict_log['train_loss'].append(train_loss)\n",
        "        dict_log['val_loss'].append(val_loss)\n",
        "\n",
        "        if val_loss < best_val_loss:\n",
        "            best_val_loss = val_loss\n",
        "            os.makedirs(os.path.dirname(config.model_path), exist_ok=True)\n",
        "            torch.save({\n",
        "                'epoch': epoch,\n",
        "                'model_state_dict': model.state_dict(),\n",
        "                'optimizer_state_dict': config.optimizer.state_dict(),\n",
        "                'loss': val_loss,\n",
        "            }, config.model_path)"
      ],
      "id": "c33d3613095d48cb",
      "outputs": [],
      "execution_count": 9
    },
    {
      "metadata": {
        "colab": {
          "base_uri": "https://localhost:8080/",
          "height": 115,
          "referenced_widgets": [
            "6baab88cc5b1498aa9a81a590736cea5",
            "1f13d6d0d92b46bcb4e42a26d9c9dc9f",
            "a587d127b7a24c4486b2c05d5a4de5ba",
            "0ac23998574a49a5ac390ee5f2c5019b",
            "534189ddd607492a88ef96983e0e6bf2",
            "2642d683fd32450c837351f3a449160f",
            "b685e188d5c6479490dd6a0156c5c54c",
            "ebd1e1b0ed5741dd9e614bd6641eb4f9",
            "fd7ee642562d45e8acabec32466a6ef5",
            "cfb8d7d3e6aa4583aacb07ce503f7efe",
            "9ba885cdf4954bc69177858362e00986",
            "c023f79387224ce9aae2970d9fbdf556",
            "c91609a6b9b249ef924e7fb3d0f5df58",
            "1064572903ef4cea9a82e64c89709572",
            "4c63b5c8d1924d01902d54856e91eccc",
            "dd5f2674f24b4222ac5ea5e9342309f6",
            "8a1302ea43f445a490f5acbbbff8be20",
            "88b7b78907f04a2688386a20291ffa2e",
            "2bf2779eab714a12914d4701f8e99abb",
            "094da185d73c45bcaeb55f9450a82453",
            "ec910c2cb4c74c07925246ba1d98ee51",
            "0804d5057d0c4d70b8f82923ac5dca6f"
          ]
        },
        "id": "eaaa63fc09289ca1",
        "outputId": "16082920-7325-45fd-b3a0-3ad31f9bd0b7"
      },
      "cell_type": "code",
      "source": [
        "finetune(config)"
      ],
      "id": "eaaa63fc09289ca1",
      "outputs": [
        {
          "output_type": "display_data",
          "data": {
            "text/plain": [
              "  0%|          | 0/3 [00:00<?, ?it/s]"
            ],
            "application/vnd.jupyter.widget-view+json": {
              "version_major": 2,
              "version_minor": 0,
              "model_id": "6baab88cc5b1498aa9a81a590736cea5"
            }
          },
          "metadata": {}
        },
        {
          "output_type": "display_data",
          "data": {
            "text/plain": [
              "  0%|          | 0/3218 [00:00<?, ?it/s]"
            ],
            "application/vnd.jupyter.widget-view+json": {
              "version_major": 2,
              "version_minor": 0,
              "model_id": "c023f79387224ce9aae2970d9fbdf556"
            }
          },
          "metadata": {}
        },
        {
          "output_type": "stream",
          "name": "stderr",
          "text": [
            "W0524 02:56:58.241000 4318 torch/_inductor/utils.py:1137] [0/0_1] Not enough SMs to use max_autotune_gemm mode\n",
            "`loss_type=None` was set in the config but it is unrecognised.Using the default loss: `ForCausalLMLoss`.\n"
          ]
        }
      ],
      "execution_count": null
    },
    {
      "metadata": {
        "id": "64290817296c3c87"
      },
      "cell_type": "markdown",
      "source": [
        "## Task 4: Generation of QA Pairs"
      ],
      "id": "64290817296c3c87"
    },
    {
      "metadata": {
        "id": "5008e42b19aecb4a"
      },
      "cell_type": "code",
      "source": [
        "def qa(config, max_batches=5):\n",
        "    for i, batch in enumerate(config.val_dl):\n",
        "        if i == max_batches: break\n",
        "\n",
        "        encoded = batch['input_ids'].to(config.device)\n",
        "        prompt = batch[\"prompts\"][0]\n",
        "        attention_mask = batch['attention_mask'].to(config.device)\n",
        "\n",
        "        gen_ids = config.model.generate(\n",
        "            encoded,\n",
        "            attention_mask=attention_mask,\n",
        "            max_new_tokens=100,\n",
        "            do_sample=True,\n",
        "            top_k=50,\n",
        "            temperature=0.8,\n",
        "            pad_token_id=config.tokenizer.eos_token_id\n",
        "        )\n",
        "\n",
        "        out = config.tokenizer.decode(gen_ids[0], skip_special_tokens=True)\n",
        "        assert out.startswith(prompt)\n",
        "\n",
        "        print(out)\n",
        "        print(\"-\" * 40)"
      ],
      "id": "5008e42b19aecb4a",
      "outputs": [],
      "execution_count": null
    },
    {
      "metadata": {
        "id": "3bf3d51e1abeefdf"
      },
      "cell_type": "code",
      "source": [
        "# check finetuned model\n",
        "qa(config)"
      ],
      "id": "3bf3d51e1abeefdf",
      "outputs": [],
      "execution_count": null
    },
    {
      "metadata": {
        "id": "98e46245adb23a3f"
      },
      "cell_type": "code",
      "outputs": [],
      "execution_count": null,
      "source": [
        "# compare default model\n",
        "config.reset_model()\n",
        "qa(config)"
      ],
      "id": "98e46245adb23a3f"
    }
  ],
  "metadata": {
    "kernelspec": {
      "display_name": "Python 3",
      "name": "python3"
    },
    "language_info": {
      "codemirror_mode": {
        "name": "ipython",
        "version": 3
      },
      "file_extension": ".py",
      "mimetype": "text/x-python",
      "name": "python",
      "nbconvert_exporter": "python",
      "pygments_lexer": "ipython3",
      "version": "3.12.2"
    },
    "colab": {
      "provenance": [],
      "gpuType": "T4"
    },
    "accelerator": "GPU",
    "widgets": {
      "application/vnd.jupyter.widget-state+json": {
        "6baab88cc5b1498aa9a81a590736cea5": {
          "model_module": "@jupyter-widgets/controls",
          "model_name": "HBoxModel",
          "model_module_version": "1.5.0",
          "state": {
            "_dom_classes": [],
            "_model_module": "@jupyter-widgets/controls",
            "_model_module_version": "1.5.0",
            "_model_name": "HBoxModel",
            "_view_count": null,
            "_view_module": "@jupyter-widgets/controls",
            "_view_module_version": "1.5.0",
            "_view_name": "HBoxView",
            "box_style": "",
            "children": [
              "IPY_MODEL_1f13d6d0d92b46bcb4e42a26d9c9dc9f",
              "IPY_MODEL_a587d127b7a24c4486b2c05d5a4de5ba",
              "IPY_MODEL_0ac23998574a49a5ac390ee5f2c5019b"
            ],
            "layout": "IPY_MODEL_534189ddd607492a88ef96983e0e6bf2"
          }
        },
        "1f13d6d0d92b46bcb4e42a26d9c9dc9f": {
          "model_module": "@jupyter-widgets/controls",
          "model_name": "HTMLModel",
          "model_module_version": "1.5.0",
          "state": {
            "_dom_classes": [],
            "_model_module": "@jupyter-widgets/controls",
            "_model_module_version": "1.5.0",
            "_model_name": "HTMLModel",
            "_view_count": null,
            "_view_module": "@jupyter-widgets/controls",
            "_view_module_version": "1.5.0",
            "_view_name": "HTMLView",
            "description": "",
            "description_tooltip": null,
            "layout": "IPY_MODEL_2642d683fd32450c837351f3a449160f",
            "placeholder": "​",
            "style": "IPY_MODEL_b685e188d5c6479490dd6a0156c5c54c",
            "value": "  0%"
          }
        },
        "a587d127b7a24c4486b2c05d5a4de5ba": {
          "model_module": "@jupyter-widgets/controls",
          "model_name": "FloatProgressModel",
          "model_module_version": "1.5.0",
          "state": {
            "_dom_classes": [],
            "_model_module": "@jupyter-widgets/controls",
            "_model_module_version": "1.5.0",
            "_model_name": "FloatProgressModel",
            "_view_count": null,
            "_view_module": "@jupyter-widgets/controls",
            "_view_module_version": "1.5.0",
            "_view_name": "ProgressView",
            "bar_style": "",
            "description": "",
            "description_tooltip": null,
            "layout": "IPY_MODEL_ebd1e1b0ed5741dd9e614bd6641eb4f9",
            "max": 3,
            "min": 0,
            "orientation": "horizontal",
            "style": "IPY_MODEL_fd7ee642562d45e8acabec32466a6ef5",
            "value": 0
          }
        },
        "0ac23998574a49a5ac390ee5f2c5019b": {
          "model_module": "@jupyter-widgets/controls",
          "model_name": "HTMLModel",
          "model_module_version": "1.5.0",
          "state": {
            "_dom_classes": [],
            "_model_module": "@jupyter-widgets/controls",
            "_model_module_version": "1.5.0",
            "_model_name": "HTMLModel",
            "_view_count": null,
            "_view_module": "@jupyter-widgets/controls",
            "_view_module_version": "1.5.0",
            "_view_name": "HTMLView",
            "description": "",
            "description_tooltip": null,
            "layout": "IPY_MODEL_cfb8d7d3e6aa4583aacb07ce503f7efe",
            "placeholder": "​",
            "style": "IPY_MODEL_9ba885cdf4954bc69177858362e00986",
            "value": " 0/3 [00:00&lt;?, ?it/s]"
          }
        },
        "534189ddd607492a88ef96983e0e6bf2": {
          "model_module": "@jupyter-widgets/base",
          "model_name": "LayoutModel",
          "model_module_version": "1.2.0",
          "state": {
            "_model_module": "@jupyter-widgets/base",
            "_model_module_version": "1.2.0",
            "_model_name": "LayoutModel",
            "_view_count": null,
            "_view_module": "@jupyter-widgets/base",
            "_view_module_version": "1.2.0",
            "_view_name": "LayoutView",
            "align_content": null,
            "align_items": null,
            "align_self": null,
            "border": null,
            "bottom": null,
            "display": null,
            "flex": null,
            "flex_flow": null,
            "grid_area": null,
            "grid_auto_columns": null,
            "grid_auto_flow": null,
            "grid_auto_rows": null,
            "grid_column": null,
            "grid_gap": null,
            "grid_row": null,
            "grid_template_areas": null,
            "grid_template_columns": null,
            "grid_template_rows": null,
            "height": null,
            "justify_content": null,
            "justify_items": null,
            "left": null,
            "margin": null,
            "max_height": null,
            "max_width": null,
            "min_height": null,
            "min_width": null,
            "object_fit": null,
            "object_position": null,
            "order": null,
            "overflow": null,
            "overflow_x": null,
            "overflow_y": null,
            "padding": null,
            "right": null,
            "top": null,
            "visibility": null,
            "width": null
          }
        },
        "2642d683fd32450c837351f3a449160f": {
          "model_module": "@jupyter-widgets/base",
          "model_name": "LayoutModel",
          "model_module_version": "1.2.0",
          "state": {
            "_model_module": "@jupyter-widgets/base",
            "_model_module_version": "1.2.0",
            "_model_name": "LayoutModel",
            "_view_count": null,
            "_view_module": "@jupyter-widgets/base",
            "_view_module_version": "1.2.0",
            "_view_name": "LayoutView",
            "align_content": null,
            "align_items": null,
            "align_self": null,
            "border": null,
            "bottom": null,
            "display": null,
            "flex": null,
            "flex_flow": null,
            "grid_area": null,
            "grid_auto_columns": null,
            "grid_auto_flow": null,
            "grid_auto_rows": null,
            "grid_column": null,
            "grid_gap": null,
            "grid_row": null,
            "grid_template_areas": null,
            "grid_template_columns": null,
            "grid_template_rows": null,
            "height": null,
            "justify_content": null,
            "justify_items": null,
            "left": null,
            "margin": null,
            "max_height": null,
            "max_width": null,
            "min_height": null,
            "min_width": null,
            "object_fit": null,
            "object_position": null,
            "order": null,
            "overflow": null,
            "overflow_x": null,
            "overflow_y": null,
            "padding": null,
            "right": null,
            "top": null,
            "visibility": null,
            "width": null
          }
        },
        "b685e188d5c6479490dd6a0156c5c54c": {
          "model_module": "@jupyter-widgets/controls",
          "model_name": "DescriptionStyleModel",
          "model_module_version": "1.5.0",
          "state": {
            "_model_module": "@jupyter-widgets/controls",
            "_model_module_version": "1.5.0",
            "_model_name": "DescriptionStyleModel",
            "_view_count": null,
            "_view_module": "@jupyter-widgets/base",
            "_view_module_version": "1.2.0",
            "_view_name": "StyleView",
            "description_width": ""
          }
        },
        "ebd1e1b0ed5741dd9e614bd6641eb4f9": {
          "model_module": "@jupyter-widgets/base",
          "model_name": "LayoutModel",
          "model_module_version": "1.2.0",
          "state": {
            "_model_module": "@jupyter-widgets/base",
            "_model_module_version": "1.2.0",
            "_model_name": "LayoutModel",
            "_view_count": null,
            "_view_module": "@jupyter-widgets/base",
            "_view_module_version": "1.2.0",
            "_view_name": "LayoutView",
            "align_content": null,
            "align_items": null,
            "align_self": null,
            "border": null,
            "bottom": null,
            "display": null,
            "flex": null,
            "flex_flow": null,
            "grid_area": null,
            "grid_auto_columns": null,
            "grid_auto_flow": null,
            "grid_auto_rows": null,
            "grid_column": null,
            "grid_gap": null,
            "grid_row": null,
            "grid_template_areas": null,
            "grid_template_columns": null,
            "grid_template_rows": null,
            "height": null,
            "justify_content": null,
            "justify_items": null,
            "left": null,
            "margin": null,
            "max_height": null,
            "max_width": null,
            "min_height": null,
            "min_width": null,
            "object_fit": null,
            "object_position": null,
            "order": null,
            "overflow": null,
            "overflow_x": null,
            "overflow_y": null,
            "padding": null,
            "right": null,
            "top": null,
            "visibility": null,
            "width": null
          }
        },
        "fd7ee642562d45e8acabec32466a6ef5": {
          "model_module": "@jupyter-widgets/controls",
          "model_name": "ProgressStyleModel",
          "model_module_version": "1.5.0",
          "state": {
            "_model_module": "@jupyter-widgets/controls",
            "_model_module_version": "1.5.0",
            "_model_name": "ProgressStyleModel",
            "_view_count": null,
            "_view_module": "@jupyter-widgets/base",
            "_view_module_version": "1.2.0",
            "_view_name": "StyleView",
            "bar_color": null,
            "description_width": ""
          }
        },
        "cfb8d7d3e6aa4583aacb07ce503f7efe": {
          "model_module": "@jupyter-widgets/base",
          "model_name": "LayoutModel",
          "model_module_version": "1.2.0",
          "state": {
            "_model_module": "@jupyter-widgets/base",
            "_model_module_version": "1.2.0",
            "_model_name": "LayoutModel",
            "_view_count": null,
            "_view_module": "@jupyter-widgets/base",
            "_view_module_version": "1.2.0",
            "_view_name": "LayoutView",
            "align_content": null,
            "align_items": null,
            "align_self": null,
            "border": null,
            "bottom": null,
            "display": null,
            "flex": null,
            "flex_flow": null,
            "grid_area": null,
            "grid_auto_columns": null,
            "grid_auto_flow": null,
            "grid_auto_rows": null,
            "grid_column": null,
            "grid_gap": null,
            "grid_row": null,
            "grid_template_areas": null,
            "grid_template_columns": null,
            "grid_template_rows": null,
            "height": null,
            "justify_content": null,
            "justify_items": null,
            "left": null,
            "margin": null,
            "max_height": null,
            "max_width": null,
            "min_height": null,
            "min_width": null,
            "object_fit": null,
            "object_position": null,
            "order": null,
            "overflow": null,
            "overflow_x": null,
            "overflow_y": null,
            "padding": null,
            "right": null,
            "top": null,
            "visibility": null,
            "width": null
          }
        },
        "9ba885cdf4954bc69177858362e00986": {
          "model_module": "@jupyter-widgets/controls",
          "model_name": "DescriptionStyleModel",
          "model_module_version": "1.5.0",
          "state": {
            "_model_module": "@jupyter-widgets/controls",
            "_model_module_version": "1.5.0",
            "_model_name": "DescriptionStyleModel",
            "_view_count": null,
            "_view_module": "@jupyter-widgets/base",
            "_view_module_version": "1.2.0",
            "_view_name": "StyleView",
            "description_width": ""
          }
        },
        "c023f79387224ce9aae2970d9fbdf556": {
          "model_module": "@jupyter-widgets/controls",
          "model_name": "HBoxModel",
          "model_module_version": "1.5.0",
          "state": {
            "_dom_classes": [],
            "_model_module": "@jupyter-widgets/controls",
            "_model_module_version": "1.5.0",
            "_model_name": "HBoxModel",
            "_view_count": null,
            "_view_module": "@jupyter-widgets/controls",
            "_view_module_version": "1.5.0",
            "_view_name": "HBoxView",
            "box_style": "",
            "children": [
              "IPY_MODEL_c91609a6b9b249ef924e7fb3d0f5df58",
              "IPY_MODEL_1064572903ef4cea9a82e64c89709572",
              "IPY_MODEL_4c63b5c8d1924d01902d54856e91eccc"
            ],
            "layout": "IPY_MODEL_dd5f2674f24b4222ac5ea5e9342309f6"
          }
        },
        "c91609a6b9b249ef924e7fb3d0f5df58": {
          "model_module": "@jupyter-widgets/controls",
          "model_name": "HTMLModel",
          "model_module_version": "1.5.0",
          "state": {
            "_dom_classes": [],
            "_model_module": "@jupyter-widgets/controls",
            "_model_module_version": "1.5.0",
            "_model_name": "HTMLModel",
            "_view_count": null,
            "_view_module": "@jupyter-widgets/controls",
            "_view_module_version": "1.5.0",
            "_view_name": "HTMLView",
            "description": "",
            "description_tooltip": null,
            "layout": "IPY_MODEL_8a1302ea43f445a490f5acbbbff8be20",
            "placeholder": "​",
            "style": "IPY_MODEL_88b7b78907f04a2688386a20291ffa2e",
            "value": "  5%"
          }
        },
        "1064572903ef4cea9a82e64c89709572": {
          "model_module": "@jupyter-widgets/controls",
          "model_name": "FloatProgressModel",
          "model_module_version": "1.5.0",
          "state": {
            "_dom_classes": [],
            "_model_module": "@jupyter-widgets/controls",
            "_model_module_version": "1.5.0",
            "_model_name": "FloatProgressModel",
            "_view_count": null,
            "_view_module": "@jupyter-widgets/controls",
            "_view_module_version": "1.5.0",
            "_view_name": "ProgressView",
            "bar_style": "",
            "description": "",
            "description_tooltip": null,
            "layout": "IPY_MODEL_2bf2779eab714a12914d4701f8e99abb",
            "max": 3218,
            "min": 0,
            "orientation": "horizontal",
            "style": "IPY_MODEL_094da185d73c45bcaeb55f9450a82453",
            "value": 148
          }
        },
        "4c63b5c8d1924d01902d54856e91eccc": {
          "model_module": "@jupyter-widgets/controls",
          "model_name": "HTMLModel",
          "model_module_version": "1.5.0",
          "state": {
            "_dom_classes": [],
            "_model_module": "@jupyter-widgets/controls",
            "_model_module_version": "1.5.0",
            "_model_name": "HTMLModel",
            "_view_count": null,
            "_view_module": "@jupyter-widgets/controls",
            "_view_module_version": "1.5.0",
            "_view_name": "HTMLView",
            "description": "",
            "description_tooltip": null,
            "layout": "IPY_MODEL_ec910c2cb4c74c07925246ba1d98ee51",
            "placeholder": "​",
            "style": "IPY_MODEL_0804d5057d0c4d70b8f82923ac5dca6f",
            "value": " 148/3218 [05:37&lt;46:14,  1.11it/s]"
          }
        },
        "dd5f2674f24b4222ac5ea5e9342309f6": {
          "model_module": "@jupyter-widgets/base",
          "model_name": "LayoutModel",
          "model_module_version": "1.2.0",
          "state": {
            "_model_module": "@jupyter-widgets/base",
            "_model_module_version": "1.2.0",
            "_model_name": "LayoutModel",
            "_view_count": null,
            "_view_module": "@jupyter-widgets/base",
            "_view_module_version": "1.2.0",
            "_view_name": "LayoutView",
            "align_content": null,
            "align_items": null,
            "align_self": null,
            "border": null,
            "bottom": null,
            "display": null,
            "flex": null,
            "flex_flow": null,
            "grid_area": null,
            "grid_auto_columns": null,
            "grid_auto_flow": null,
            "grid_auto_rows": null,
            "grid_column": null,
            "grid_gap": null,
            "grid_row": null,
            "grid_template_areas": null,
            "grid_template_columns": null,
            "grid_template_rows": null,
            "height": null,
            "justify_content": null,
            "justify_items": null,
            "left": null,
            "margin": null,
            "max_height": null,
            "max_width": null,
            "min_height": null,
            "min_width": null,
            "object_fit": null,
            "object_position": null,
            "order": null,
            "overflow": null,
            "overflow_x": null,
            "overflow_y": null,
            "padding": null,
            "right": null,
            "top": null,
            "visibility": null,
            "width": null
          }
        },
        "8a1302ea43f445a490f5acbbbff8be20": {
          "model_module": "@jupyter-widgets/base",
          "model_name": "LayoutModel",
          "model_module_version": "1.2.0",
          "state": {
            "_model_module": "@jupyter-widgets/base",
            "_model_module_version": "1.2.0",
            "_model_name": "LayoutModel",
            "_view_count": null,
            "_view_module": "@jupyter-widgets/base",
            "_view_module_version": "1.2.0",
            "_view_name": "LayoutView",
            "align_content": null,
            "align_items": null,
            "align_self": null,
            "border": null,
            "bottom": null,
            "display": null,
            "flex": null,
            "flex_flow": null,
            "grid_area": null,
            "grid_auto_columns": null,
            "grid_auto_flow": null,
            "grid_auto_rows": null,
            "grid_column": null,
            "grid_gap": null,
            "grid_row": null,
            "grid_template_areas": null,
            "grid_template_columns": null,
            "grid_template_rows": null,
            "height": null,
            "justify_content": null,
            "justify_items": null,
            "left": null,
            "margin": null,
            "max_height": null,
            "max_width": null,
            "min_height": null,
            "min_width": null,
            "object_fit": null,
            "object_position": null,
            "order": null,
            "overflow": null,
            "overflow_x": null,
            "overflow_y": null,
            "padding": null,
            "right": null,
            "top": null,
            "visibility": null,
            "width": null
          }
        },
        "88b7b78907f04a2688386a20291ffa2e": {
          "model_module": "@jupyter-widgets/controls",
          "model_name": "DescriptionStyleModel",
          "model_module_version": "1.5.0",
          "state": {
            "_model_module": "@jupyter-widgets/controls",
            "_model_module_version": "1.5.0",
            "_model_name": "DescriptionStyleModel",
            "_view_count": null,
            "_view_module": "@jupyter-widgets/base",
            "_view_module_version": "1.2.0",
            "_view_name": "StyleView",
            "description_width": ""
          }
        },
        "2bf2779eab714a12914d4701f8e99abb": {
          "model_module": "@jupyter-widgets/base",
          "model_name": "LayoutModel",
          "model_module_version": "1.2.0",
          "state": {
            "_model_module": "@jupyter-widgets/base",
            "_model_module_version": "1.2.0",
            "_model_name": "LayoutModel",
            "_view_count": null,
            "_view_module": "@jupyter-widgets/base",
            "_view_module_version": "1.2.0",
            "_view_name": "LayoutView",
            "align_content": null,
            "align_items": null,
            "align_self": null,
            "border": null,
            "bottom": null,
            "display": null,
            "flex": null,
            "flex_flow": null,
            "grid_area": null,
            "grid_auto_columns": null,
            "grid_auto_flow": null,
            "grid_auto_rows": null,
            "grid_column": null,
            "grid_gap": null,
            "grid_row": null,
            "grid_template_areas": null,
            "grid_template_columns": null,
            "grid_template_rows": null,
            "height": null,
            "justify_content": null,
            "justify_items": null,
            "left": null,
            "margin": null,
            "max_height": null,
            "max_width": null,
            "min_height": null,
            "min_width": null,
            "object_fit": null,
            "object_position": null,
            "order": null,
            "overflow": null,
            "overflow_x": null,
            "overflow_y": null,
            "padding": null,
            "right": null,
            "top": null,
            "visibility": null,
            "width": null
          }
        },
        "094da185d73c45bcaeb55f9450a82453": {
          "model_module": "@jupyter-widgets/controls",
          "model_name": "ProgressStyleModel",
          "model_module_version": "1.5.0",
          "state": {
            "_model_module": "@jupyter-widgets/controls",
            "_model_module_version": "1.5.0",
            "_model_name": "ProgressStyleModel",
            "_view_count": null,
            "_view_module": "@jupyter-widgets/base",
            "_view_module_version": "1.2.0",
            "_view_name": "StyleView",
            "bar_color": null,
            "description_width": ""
          }
        },
        "ec910c2cb4c74c07925246ba1d98ee51": {
          "model_module": "@jupyter-widgets/base",
          "model_name": "LayoutModel",
          "model_module_version": "1.2.0",
          "state": {
            "_model_module": "@jupyter-widgets/base",
            "_model_module_version": "1.2.0",
            "_model_name": "LayoutModel",
            "_view_count": null,
            "_view_module": "@jupyter-widgets/base",
            "_view_module_version": "1.2.0",
            "_view_name": "LayoutView",
            "align_content": null,
            "align_items": null,
            "align_self": null,
            "border": null,
            "bottom": null,
            "display": null,
            "flex": null,
            "flex_flow": null,
            "grid_area": null,
            "grid_auto_columns": null,
            "grid_auto_flow": null,
            "grid_auto_rows": null,
            "grid_column": null,
            "grid_gap": null,
            "grid_row": null,
            "grid_template_areas": null,
            "grid_template_columns": null,
            "grid_template_rows": null,
            "height": null,
            "justify_content": null,
            "justify_items": null,
            "left": null,
            "margin": null,
            "max_height": null,
            "max_width": null,
            "min_height": null,
            "min_width": null,
            "object_fit": null,
            "object_position": null,
            "order": null,
            "overflow": null,
            "overflow_x": null,
            "overflow_y": null,
            "padding": null,
            "right": null,
            "top": null,
            "visibility": null,
            "width": null
          }
        },
        "0804d5057d0c4d70b8f82923ac5dca6f": {
          "model_module": "@jupyter-widgets/controls",
          "model_name": "DescriptionStyleModel",
          "model_module_version": "1.5.0",
          "state": {
            "_model_module": "@jupyter-widgets/controls",
            "_model_module_version": "1.5.0",
            "_model_name": "DescriptionStyleModel",
            "_view_count": null,
            "_view_module": "@jupyter-widgets/base",
            "_view_module_version": "1.2.0",
            "_view_name": "StyleView",
            "description_width": ""
          }
        }
      }
    }
  },
  "nbformat": 4,
  "nbformat_minor": 5
}