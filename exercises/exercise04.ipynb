{
  "cells": [
    {
      "cell_type": "markdown",
      "metadata": {},
      "source": [
        "# Exercise 4"
      ]
    },
    {
      "cell_type": "markdown",
      "metadata": {},
      "source": [
        "## Group \n",
        "- **ID**: <your group ID>\n",
        "\n",
        "- **Members**: \n",
        "    - <your name1>\n",
        "    - <your name2>\n",
        "    - <your name3>"
      ]
    },
    {
      "cell_type": "markdown",
      "metadata": {},
      "source": [
        "## Hand-in\n",
        "- Please hand in this notebook with your code implementation via Ilias \n",
        "- Please make sure that there is exactly **one** submission per group"
      ]
    },
    {
      "cell_type": "markdown",
      "metadata": {},
      "source": [
        "## Task Description\n",
        "\n",
        "Apply Proximal Policy Optimization to fine-tune the pretrained GPT-2 Medium model so that it excels at simple addition problems with operands from 0 to 100 (or 0 to 50). Define a reward that reflects arithmetic correctness, train the model with the PPO algorithm, and track the key loss components throughout training. Finally, visualize how the policy loss, value loss, and entropy loss evolve over the course of optimization."
      ]
    },
    {
      "cell_type": "markdown",
      "metadata": {},
      "source": [
        "## Grading scheme\n",
        "Total: 5 points\n",
        "1. **Preparing the Dataloader and the Model** (1.5 points)\n",
        "2. **PPO training loop** (3 points)\n",
        "3. **Visulization** (0.5 points)"
      ]
    },
    {
      "cell_type": "markdown",
      "metadata": {},
      "source": [
        "## Code"
      ]
    },
    {
      "cell_type": "markdown",
      "metadata": {},
      "source": [
        "### "
      ]
    }
  ],
  "metadata": {
    "accelerator": "GPU",
    "colab": {
      "gpuType": "T4",
      "provenance": []
    },
    "kernelspec": {
      "display_name": "study",
      "language": "python",
      "name": "python3"
    },
    "language_info": {
      "codemirror_mode": {
        "name": "ipython",
        "version": 3
      },
      "file_extension": ".py",
      "mimetype": "text/x-python",
      "name": "python",
      "nbconvert_exporter": "python",
      "pygments_lexer": "ipython3",
      "version": "3.13.2"
    }
  },
  "nbformat": 4,
  "nbformat_minor": 0
}
