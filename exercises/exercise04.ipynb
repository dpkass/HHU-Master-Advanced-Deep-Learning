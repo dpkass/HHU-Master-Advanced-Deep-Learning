{
 "cells": [
  {
   "cell_type": "markdown",
   "metadata": {
    "id": "BNibncFOz_Ty"
   },
   "source": [
    "# Exercise 4"
   ]
  },
  {
   "cell_type": "markdown",
   "metadata": {
    "id": "4ueNJY5gz_Tz"
   },
   "source": [
    "## Group\n",
    "- **ID**: 5\n",
    "\n",
    "- **Members**:\n",
    "    - Hasan Algafri\n",
    "    - Emre Dursunluer\n",
    "    - Taha El Amine Kassabi"
   ]
  },
  {
   "cell_type": "markdown",
   "metadata": {
    "id": "l6XsG7Xdz_Tz"
   },
   "source": [
    "## Hand-in\n",
    "- Please hand in this notebook with your code implementation via Ilias\n",
    "- Please make sure that there is exactly **one** submission per group"
   ]
  },
  {
   "cell_type": "markdown",
   "metadata": {
    "id": "PkXIFBuOz_Tz"
   },
   "source": [
    "## Task Description\n",
    "\n",
    "Apply Proximal Policy Optimization to fine-tune the pretrained GPT-2 Medium model so that it excels at simple addition problems with operands from 0 to 100 (or 0 to 50). Define a reward that reflects arithmetic correctness, train the model with the PPO algorithm, and track the key loss components throughout training. Finally, visualize how the policy loss, value loss, and entropy loss evolve over the course of optimization."
   ]
  },
  {
   "cell_type": "markdown",
   "metadata": {
    "id": "xPZg55rGz_T0"
   },
   "source": [
    "## Grading scheme\n",
    "Total: 5 points\n",
    "1. **Preparing the Dataloader and the Model** (1.5 points)\n",
    "2. **PPO training loop** (3 points)\n",
    "3. **Visulization** (0.5 points)"
   ]
  },
  {
   "cell_type": "code",
   "execution_count": 1,
   "metadata": {
    "ExecuteTime": {
     "end_time": "2025-06-01T15:12:34.658869Z",
     "start_time": "2025-06-01T15:11:58.260418Z"
    },
    "colab": {
     "base_uri": "https://localhost:8080/"
    },
    "execution": {
     "iopub.execute_input": "2025-06-01T15:18:53.300594Z",
     "iopub.status.busy": "2025-06-01T15:18:53.300282Z",
     "iopub.status.idle": "2025-06-01T15:19:09.322103Z",
     "shell.execute_reply": "2025-06-01T15:19:09.321731Z"
    },
    "id": "k3cDuY2dz_T0",
    "outputId": "95c80aea-fae2-435e-bccd-85b9707056f6"
   },
   "outputs": [
    {
     "name": "stderr",
     "output_type": "stream",
     "text": [
      "/opt/homebrew/anaconda3/envs/advanced-deep-learning/lib/python3.10/site-packages/torchvision/io/image.py:13: UserWarning: Failed to load image Python extension: 'dlopen(/opt/homebrew/anaconda3/envs/advanced-deep-learning/lib/python3.10/site-packages/torchvision/image.so, 0x0006): Symbol not found: __ZN3c1017RegisterOperatorsD1Ev\n",
      "  Referenced from: <5AA8DD3D-A2CC-31CA-8060-88B4E9C18B09> /opt/homebrew/anaconda3/envs/advanced-deep-learning/lib/python3.10/site-packages/torchvision/image.so\n",
      "  Expected in:     <473B02F4-48EA-3880-8B82-14AA228F6939> /opt/homebrew/anaconda3/envs/advanced-deep-learning/lib/libtorch_cpu.dylib'If you don't plan on using image functionality from `torchvision.io`, you can ignore this warning. Otherwise, there might be something wrong with your environment. Did you have `libjpeg` or `libpng` installed before building `torchvision` from source?\n",
      "  warn(\n"
     ]
    },
    {
     "data": {
      "text/plain": [
       "<torch._C.Generator at 0x1137c3670>"
      ]
     },
     "execution_count": 1,
     "metadata": {},
     "output_type": "execute_result"
    }
   ],
   "source": [
    "import os\n",
    "import re\n",
    "from copy import deepcopy\n",
    "from functools import partial\n",
    "\n",
    "import torch\n",
    "from torch import nn, optim\n",
    "from torch.distributions import Categorical\n",
    "from torch.utils.data import DataLoader, IterableDataset\n",
    "import numpy as np\n",
    "from transformers import GPT2LMHeadModel, GPT2Tokenizer\n",
    "import matplotlib.pyplot as plt\n",
    "from tqdm.auto import trange\n",
    "\n",
    "torch.manual_seed(42)"
   ]
  },
  {
   "cell_type": "markdown",
   "metadata": {
    "id": "gWan-VTBz_T0"
   },
   "source": [
    "## Task 1: Data and Model"
   ]
  },
  {
   "cell_type": "code",
   "execution_count": 2,
   "metadata": {
    "ExecuteTime": {
     "end_time": "2025-06-01T15:12:34.681071Z",
     "start_time": "2025-06-01T15:12:34.678324Z"
    },
    "execution": {
     "iopub.execute_input": "2025-06-01T15:19:09.323955Z",
     "iopub.status.busy": "2025-06-01T15:19:09.323758Z",
     "iopub.status.idle": "2025-06-01T15:19:09.326438Z",
     "shell.execute_reply": "2025-06-01T15:19:09.326114Z"
    },
    "id": "__OHObUWz_T1"
   },
   "outputs": [],
   "source": [
    "class AdditionDataset(IterableDataset):\n",
    "    def __init__(self, min=0, max=100):\n",
    "        self.min = min\n",
    "        self.max = max\n",
    "\n",
    "    def __iter__(self):\n",
    "        while True:\n",
    "            yield self.sample()\n",
    "\n",
    "    def sample(self):\n",
    "        a, b = torch.randint(self.min, self.max, [2])\n",
    "        return f'{a}+{b}=', (a + b).item()"
   ]
  },
  {
   "cell_type": "code",
   "execution_count": 3,
   "metadata": {
    "ExecuteTime": {
     "end_time": "2025-06-01T15:12:35.007660Z",
     "start_time": "2025-06-01T15:12:35.004716Z"
    },
    "execution": {
     "iopub.execute_input": "2025-06-01T15:19:09.328033Z",
     "iopub.status.busy": "2025-06-01T15:19:09.327897Z",
     "iopub.status.idle": "2025-06-01T15:19:09.330269Z",
     "shell.execute_reply": "2025-06-01T15:19:09.329811Z"
    },
    "id": "LqYIpTTPz_T1"
   },
   "outputs": [],
   "source": [
    "def custom_collate_fn(batch, tokenizer):\n",
    "    prompts, solutions = zip(*batch)\n",
    "\n",
    "    encoding = tokenizer(\n",
    "        prompts,\n",
    "        padding='longest',\n",
    "        truncation=True,\n",
    "        return_tensors='pt',\n",
    "        return_attention_mask=True,\n",
    "        add_special_tokens=True\n",
    "    )\n",
    "\n",
    "    return {\n",
    "        'prompts': prompts,\n",
    "        'input_ids': encoding.input_ids,\n",
    "        'solutions': torch.as_tensor(solutions),\n",
    "    }"
   ]
  },
  {
   "cell_type": "code",
   "execution_count": 4,
   "metadata": {
    "ExecuteTime": {
     "end_time": "2025-06-01T15:12:35.028321Z",
     "start_time": "2025-06-01T15:12:35.018002Z"
    },
    "execution": {
     "iopub.execute_input": "2025-06-01T15:19:09.332059Z",
     "iopub.status.busy": "2025-06-01T15:19:09.331903Z",
     "iopub.status.idle": "2025-06-01T15:19:09.341183Z",
     "shell.execute_reply": "2025-06-01T15:19:09.340797Z"
    },
    "id": "fZfO0MWSz_T1"
   },
   "outputs": [],
   "source": [
    "class GPT2ActorCritic(nn.Module):\n",
    "    def __init__(self, lm, tokenizer, max_gen_len, clip_epsilon, entropy_coef, max_error):\n",
    "        super().__init__()\n",
    "        self.lm = lm\n",
    "        self.tokenizer = tokenizer\n",
    "        self.critic = nn.Linear(self.lm.config.hidden_size, 1)\n",
    "\n",
    "        self.max_gen_len = max_gen_len\n",
    "        self.re_pattern = re.compile(r'^\\d+\\+\\d+\\=\\s*(\\d+)\\s*$')\n",
    "\n",
    "        self.clip_epsilon = clip_epsilon\n",
    "        self.entropy_coef = entropy_coef\n",
    "        self.max_error = max_error\n",
    "\n",
    "    def forward(self, input_ids, solutions, old_model):\n",
    "        value = self.compute_value(input_ids)\n",
    "        output_ids, log_prob, log_prob_old, entropy = self.generate(input_ids, old_model)\n",
    "        output = self.tokenizer.batch_decode(output_ids, skip_special_tokens=True)\n",
    "        predictions = self.extract_predictions(output)\n",
    "        mae, reward = self.compute_rewards(predictions, solutions)\n",
    "        advantage = reward - value.detach()\n",
    "        loss_outputs = self.compute_loss(log_prob, log_prob_old, value, reward, advantage)\n",
    "\n",
    "        return loss_outputs | {\n",
    "            'entropy_loss': self.entropy_coef * entropy.mean(),\n",
    "            'reward': reward,\n",
    "            'mean_absolute_error': mae,\n",
    "            'malformed': predictions.isnan().sum(),\n",
    "            'output': output,\n",
    "        }\n",
    "\n",
    "    def compute_value(self, input_ids):\n",
    "        last_hidden = self.lm(input_ids, output_hidden_states=True).hidden_states[-1]\n",
    "        return self.critic(last_hidden)[:, -1].squeeze(-1)\n",
    "\n",
    "    def generate(self, input_ids, old_model):\n",
    "        batch_size = input_ids.size(0)\n",
    "        eos_token_id = self.tokenizer.eos_token_id\n",
    "        device = input_ids.device\n",
    "\n",
    "        batch_output = []\n",
    "        batch_entropy = torch.zeros(batch_size, device=device)\n",
    "        batch_log_prob = torch.zeros(batch_size, device=device)\n",
    "        batch_log_prob_old = torch.zeros(batch_size, device=device)\n",
    "\n",
    "        done = torch.zeros(batch_size, dtype=torch.bool, device=device)\n",
    "\n",
    "        for _ in range(self.max_gen_len):\n",
    "            output = self.lm(input_ids)\n",
    "            logits_t = output.logits[:, -1, :]\n",
    "\n",
    "            output_old = old_model.lm(input_ids)\n",
    "            logits_old_t = output_old.logits[:, -1, :]\n",
    "\n",
    "            dist = Categorical(logits=logits_t)\n",
    "            action = dist.sample()\n",
    "            entropy = dist.entropy()\n",
    "            log_prob = dist.log_prob(action)\n",
    "\n",
    "            dist_old = Categorical(logits=logits_old_t)\n",
    "            log_prob_old = dist_old.log_prob(action)\n",
    "\n",
    "            next_token = torch.where(done, eos_token_id, action)\n",
    "            batch_output.append(next_token)\n",
    "\n",
    "            batch_entropy[~done] += entropy[~done]\n",
    "            batch_log_prob[~done] += log_prob[~done]\n",
    "            batch_log_prob_old[~done] += log_prob_old[~done]\n",
    "\n",
    "            input_ids = torch.cat([input_ids, next_token.unsqueeze(-1)], dim=1)\n",
    "\n",
    "            done |= next_token == eos_token_id\n",
    "            if done.all(): break\n",
    "\n",
    "        return input_ids, batch_log_prob, batch_log_prob_old, batch_entropy\n",
    "\n",
    "    def extract_predictions(self, outputs):\n",
    "        def extract_prediction(output):\n",
    "            match = self.re_pattern.search(output)\n",
    "            return int(match.group(1)) if match else torch.nan\n",
    "\n",
    "        device = next(iter(self.parameters())).device\n",
    "        return torch.as_tensor([extract_prediction(out) for out in outputs], device=device)\n",
    "\n",
    "    def compute_rewards(self, predictions, solutions):\n",
    "        mae = abs(predictions - solutions)\n",
    "        reward = (1 - 2 * (mae / self.max_error) ** 2).clamp(-1, 1)\n",
    "\n",
    "        mae = torch.where(mae.isnan(), self.max_error, mae).clamp(max=self.max_error)\n",
    "        reward = torch.where(mae == 0, 2, reward)\n",
    "        reward = torch.where(reward.isnan(), -2, reward)\n",
    "\n",
    "        return mae.float(), reward / 2\n",
    "\n",
    "    def compute_loss(self, log_prob, log_prob_old, value, reward, advantage):\n",
    "        ratio = (log_prob - log_prob_old).exp()\n",
    "        surr1 = ratio * advantage\n",
    "        surr2 = torch.clamp(ratio, 1.0 - self.clip_epsilon, 1.0 + self.clip_epsilon) * advantage\n",
    "\n",
    "        actor_loss = -torch.min(surr1, surr2).mean()\n",
    "        critic_loss = (value - reward).pow(2).mean()\n",
    "\n",
    "        return {\n",
    "            'actor_loss': actor_loss,\n",
    "            'critic_loss': critic_loss,\n",
    "        }"
   ]
  },
  {
   "cell_type": "code",
   "execution_count": 5,
   "metadata": {
    "ExecuteTime": {
     "end_time": "2025-06-01T15:12:35.179620Z",
     "start_time": "2025-06-01T15:12:35.175256Z"
    },
    "execution": {
     "iopub.execute_input": "2025-06-01T15:19:09.343047Z",
     "iopub.status.busy": "2025-06-01T15:19:09.342914Z",
     "iopub.status.idle": "2025-06-01T15:19:09.346621Z",
     "shell.execute_reply": "2025-06-01T15:19:09.346355Z"
    },
    "id": "dBh1epFTz_T1"
   },
   "outputs": [],
   "source": [
    "class Configuration:\n",
    "    def __init__(self):\n",
    "        self.num_steps = 20000\n",
    "        self.device = torch.device('cuda' if torch.cuda.is_available() else 'mps' if torch.mps.is_available() else 'cpu')\n",
    "\n",
    "        self.pseudo_epoch_steps = 100\n",
    "        self.model_update_steps = 5\n",
    "\n",
    "        min_smnd, max_smnd = 0, 100\n",
    "        max_error = 2 * (max_smnd - min_smnd)\n",
    "\n",
    "        self.lm_name = 'gpt2-medium'\n",
    "        self.tokenizer = GPT2Tokenizer.from_pretrained(self.lm_name)\n",
    "        self.tokenizer.pad_token = self.tokenizer.eos_token\n",
    "\n",
    "        clip_epsilon = 0.2\n",
    "        entropy_coef = 0.01\n",
    "        max_gen_len = 1\n",
    "        get_model = lambda: GPT2ActorCritic(self.get_lm(), self.tokenizer, max_gen_len, clip_epsilon, entropy_coef, max_error).to(self.device)\n",
    "        self.model = get_model()\n",
    "        self.old_model = get_model()\n",
    "        for p in self.old_model.parameters(): p.requires_grad_(False)\n",
    "\n",
    "        lr = 1e-6\n",
    "        self.optimizer = optim.AdamW(self.model.parameters(), lr=lr)\n",
    "\n",
    "        collate_fn = partial(custom_collate_fn, tokenizer=self.tokenizer)\n",
    "\n",
    "        num_workers = os.cpu_count() if self.device.type == 'cuda' else 0\n",
    "        batch_size = 8\n",
    "        ds = AdditionDataset(min_smnd, max_smnd)\n",
    "        self.dl = DataLoader(ds, batch_size=batch_size, collate_fn=collate_fn, num_workers=num_workers)\n",
    "\n",
    "        self.model_path = '../models/ex04_best_model_min_loss.pt'\n",
    "\n",
    "    def get_lm(self):\n",
    "        lm = GPT2LMHeadModel.from_pretrained(self.lm_name)\n",
    "        lm.config.use_cache = True\n",
    "        return lm"
   ]
  },
  {
   "cell_type": "markdown",
   "metadata": {
    "id": "YUp0NP9Tz_T1"
   },
   "source": [
    "`max_gen_len` can be safely set to 1 since all numbers up to 200 definitely have a token. See the following:"
   ]
  },
  {
   "cell_type": "code",
   "execution_count": 6,
   "metadata": {
    "ExecuteTime": {
     "end_time": "2025-06-01T15:12:37.137098Z",
     "start_time": "2025-06-01T15:12:35.222838Z"
    },
    "colab": {
     "base_uri": "https://localhost:8080/"
    },
    "execution": {
     "iopub.execute_input": "2025-06-01T15:19:09.347988Z",
     "iopub.status.busy": "2025-06-01T15:19:09.347902Z",
     "iopub.status.idle": "2025-06-01T15:19:14.158136Z",
     "shell.execute_reply": "2025-06-01T15:19:14.157594Z"
    },
    "id": "prCUiaKlz_T1",
    "outputId": "8b2aabb3-ac96-4fc3-9f6b-bd5ebd8f4f77"
   },
   "outputs": [],
   "source": [
    "assert Configuration().tokenizer(np.arange(201).astype(str).tolist(), return_tensors='np').input_ids.shape == (201, 1)"
   ]
  },
  {
   "cell_type": "markdown",
   "metadata": {
    "id": "zirPZcitz_T1"
   },
   "source": [
    "## Task 2:"
   ]
  },
  {
   "cell_type": "code",
   "execution_count": 7,
   "metadata": {
    "ExecuteTime": {
     "end_time": "2025-06-01T15:12:37.145176Z",
     "start_time": "2025-05-27T18:57:11.359719Z"
    },
    "execution": {
     "iopub.execute_input": "2025-06-01T15:19:14.161716Z",
     "iopub.status.busy": "2025-06-01T15:19:14.161553Z",
     "iopub.status.idle": "2025-06-01T15:19:14.168320Z",
     "shell.execute_reply": "2025-06-01T15:19:14.167921Z"
    },
    "id": "F-q47FVpz_T1"
   },
   "outputs": [],
   "source": [
    "def log_pseudo_epoch(step, pes, batch_size, avg_total_loss, mae, correct, malformed):\n",
    "    recent_mae = np.mean(mae[-pes:])\n",
    "    recent_malformed = np.sum(malformed[-pes:])\n",
    "    recent_correct = np.sum(correct[-pes:])\n",
    "    print(\n",
    "        f'[Pseudo-Epoch {step // pes}] '\n",
    "        f'Total loss: {avg_total_loss:.4f} | '\n",
    "        f'Malformed: {recent_malformed}/{pes * batch_size} | '\n",
    "        f'MAE: {recent_mae:.2f} | '\n",
    "        f'Accuracy: {recent_correct / (pes * batch_size):.2%}'\n",
    "    )\n",
    "\n",
    "\n",
    "def train(config):\n",
    "    model = config.model\n",
    "    old_model = config.old_model\n",
    "    optimizer = config.optimizer\n",
    "    dl = config.dl\n",
    "    batch_size = dl.batch_size\n",
    "    device = config.device\n",
    "    num_steps = config.num_steps\n",
    "    os.makedirs(os.path.dirname(config.model_path), exist_ok=True)\n",
    "\n",
    "    pes, mus = config.pseudo_epoch_steps, config.model_update_steps\n",
    "\n",
    "    model.train()\n",
    "\n",
    "    mae = []\n",
    "    correct = []\n",
    "    malformed = []\n",
    "\n",
    "    actor_loss = []\n",
    "    critic_loss = []\n",
    "    entropy_loss = []\n",
    "    total_loss = []\n",
    "\n",
    "    best_loss = float('inf')\n",
    "\n",
    "    for i, batch in zip(trange(1, 1 + num_steps), dl):\n",
    "        input_ids = batch['input_ids'].to(device)\n",
    "        solutions = batch['solutions'].to(device)\n",
    "\n",
    "        outputs = model(input_ids, solutions, old_model)\n",
    "\n",
    "        actor_loss += [outputs['actor_loss']]\n",
    "        critic_loss += [outputs['critic_loss']]\n",
    "        entropy_loss += [outputs['entropy_loss']]\n",
    "        loss = actor_loss[-1] + critic_loss[-1] + entropy_loss[-1]\n",
    "        total_loss += [loss.item()]\n",
    "\n",
    "        mae += [outputs['mean_absolute_error'].detach().mean().item()]\n",
    "        correct += [(outputs['mean_absolute_error'].detach() == 0).sum().item()]\n",
    "        malformed += [outputs['malformed'].item()]\n",
    "\n",
    "        optimizer.zero_grad()\n",
    "        loss.backward()\n",
    "        nn.utils.clip_grad_norm_(model.parameters(), 1.0)\n",
    "        optimizer.step()\n",
    "\n",
    "        if i % mus == 0: old_model.load_state_dict(model.state_dict())\n",
    "        avg_total_loss = np.mean(total_loss[-pes:])\n",
    "        if i % pes == 0:\n",
    "            log_pseudo_epoch(i, pes, batch_size, avg_total_loss, mae, correct, malformed)\n",
    "        if i == num_steps or i % (pes * 10) == 0 and avg_total_loss < best_loss:\n",
    "            best_loss = avg_total_loss\n",
    "            torch.save({\n",
    "                'step_num': i,\n",
    "                'model_state_dict': model.state_dict(),\n",
    "                'optimizer_state_dict': optimizer.state_dict(),\n",
    "                'loss': avg_total_loss,\n",
    "            }, config.model_path)\n",
    "\n",
    "    return {\n",
    "        'actor_loss': torch.as_tensor(actor_loss),\n",
    "        'critic_loss': torch.as_tensor(critic_loss),\n",
    "        'entropy_loss': torch.as_tensor(entropy_loss),\n",
    "        'total_loss': torch.as_tensor(total_loss),\n",
    "        'mean_absolute_error': torch.as_tensor(mae),\n",
    "        'accuracy': torch.as_tensor(correct) / batch_size,\n",
    "    }"
   ]
  },
  {
   "cell_type": "code",
   "execution_count": 8,
   "metadata": {
    "ExecuteTime": {
     "end_time": "2025-06-01T15:12:37.146817Z",
     "start_time": "2025-05-27T18:57:11.383314Z"
    },
    "colab": {
     "base_uri": "https://localhost:8080/",
     "height": 1000,
     "referenced_widgets": [
      "06a169dedc1f44afae453c6896bccb4c",
      "cd3d4df3b6c942b98b2534015e3ba283",
      "37dfd858cf224c6ba4cc00d2002bfb98",
      "a83bd0e730cf4812bdbbafbee6423e56",
      "5f6499b05c2541f0bf74fe89322d3d7d",
      "a306bbafaf084bbea47c6bb966d41928",
      "b9560704ce4d45fa8575d33844ad34a8",
      "3503cd22f3e0400fa931aa1d3eaec952",
      "054cb2bf159540a7a89fd6cb12a29c5c",
      "124b74d707c04496811439d3965d497b",
      "ba274569a347448ba6da3f76b665d7ef"
     ]
    },
    "execution": {
     "iopub.execute_input": "2025-06-01T15:19:14.170039Z",
     "iopub.status.busy": "2025-06-01T15:19:14.169900Z",
     "iopub.status.idle": "2025-06-01T18:09:47.194467Z",
     "shell.execute_reply": "2025-06-01T18:09:47.185600Z"
    },
    "id": "LKL9Grkjz_T1",
    "outputId": "c2fbcfb6-334e-42f6-bf7c-22711abde1fb"
   },
   "outputs": [
    {
     "data": {
      "application/vnd.jupyter.widget-view+json": {
       "model_id": "f0a9e7728b27465caf2eb63bcf72e79d",
       "version_major": 2,
       "version_minor": 0
      },
      "text/plain": [
       "  0%|          | 0/20000 [00:00<?, ?it/s]"
      ]
     },
     "metadata": {},
     "output_type": "display_data"
    },
    {
     "name": "stdout",
     "output_type": "stream",
     "text": [
      "[Pseudo-Epoch 1] Total loss: 4.3279 | Malformed: 341/800 | MAE: 136.65 | Accuracy: 0.25%\n"
     ]
    },
    {
     "name": "stdout",
     "output_type": "stream",
     "text": [
      "[Pseudo-Epoch 2] Total loss: 0.8970 | Malformed: 60/800 | MAE: 94.70 | Accuracy: 0.00%\n"
     ]
    },
    {
     "name": "stdout",
     "output_type": "stream",
     "text": [
      "[Pseudo-Epoch 3] Total loss: 0.5225 | Malformed: 26/800 | MAE: 83.28 | Accuracy: 0.25%\n"
     ]
    },
    {
     "name": "stdout",
     "output_type": "stream",
     "text": [
      "[Pseudo-Epoch 4] Total loss: 0.4286 | Malformed: 5/800 | MAE: 63.59 | Accuracy: 0.62%\n"
     ]
    },
    {
     "name": "stdout",
     "output_type": "stream",
     "text": [
      "[Pseudo-Epoch 5] Total loss: 0.5833 | Malformed: 3/800 | MAE: 47.30 | Accuracy: 0.88%\n"
     ]
    },
    {
     "name": "stdout",
     "output_type": "stream",
     "text": [
      "[Pseudo-Epoch 6] Total loss: 0.5182 | Malformed: 0/800 | MAE: 37.38 | Accuracy: 0.88%\n"
     ]
    },
    {
     "name": "stdout",
     "output_type": "stream",
     "text": [
      "[Pseudo-Epoch 7] Total loss: 0.2826 | Malformed: 0/800 | MAE: 35.78 | Accuracy: 1.00%\n"
     ]
    },
    {
     "name": "stdout",
     "output_type": "stream",
     "text": [
      "[Pseudo-Epoch 8] Total loss: 0.2687 | Malformed: 0/800 | MAE: 34.86 | Accuracy: 1.12%\n"
     ]
    },
    {
     "name": "stdout",
     "output_type": "stream",
     "text": [
      "[Pseudo-Epoch 9] Total loss: 0.2728 | Malformed: 0/800 | MAE: 32.42 | Accuracy: 1.12%\n"
     ]
    },
    {
     "name": "stdout",
     "output_type": "stream",
     "text": [
      "[Pseudo-Epoch 10] Total loss: 0.2513 | Malformed: 0/800 | MAE: 32.98 | Accuracy: 0.62%\n"
     ]
    },
    {
     "name": "stdout",
     "output_type": "stream",
     "text": [
      "[Pseudo-Epoch 11] Total loss: 0.1358 | Malformed: 0/800 | MAE: 33.60 | Accuracy: 0.50%\n"
     ]
    },
    {
     "name": "stdout",
     "output_type": "stream",
     "text": [
      "[Pseudo-Epoch 12] Total loss: 0.1274 | Malformed: 0/800 | MAE: 33.17 | Accuracy: 1.62%\n"
     ]
    },
    {
     "name": "stdout",
     "output_type": "stream",
     "text": [
      "[Pseudo-Epoch 13] Total loss: 0.1018 | Malformed: 0/800 | MAE: 35.74 | Accuracy: 0.62%\n"
     ]
    },
    {
     "name": "stdout",
     "output_type": "stream",
     "text": [
      "[Pseudo-Epoch 14] Total loss: 0.2274 | Malformed: 1/800 | MAE: 34.77 | Accuracy: 1.25%\n"
     ]
    },
    {
     "name": "stdout",
     "output_type": "stream",
     "text": [
      "[Pseudo-Epoch 15] Total loss: 0.0926 | Malformed: 0/800 | MAE: 34.75 | Accuracy: 0.50%\n"
     ]
    },
    {
     "name": "stdout",
     "output_type": "stream",
     "text": [
      "[Pseudo-Epoch 16] Total loss: 0.0965 | Malformed: 0/800 | MAE: 34.03 | Accuracy: 0.50%\n"
     ]
    },
    {
     "name": "stdout",
     "output_type": "stream",
     "text": [
      "[Pseudo-Epoch 17] Total loss: 0.0592 | Malformed: 0/800 | MAE: 33.91 | Accuracy: 0.75%\n"
     ]
    },
    {
     "name": "stdout",
     "output_type": "stream",
     "text": [
      "[Pseudo-Epoch 18] Total loss: 0.0660 | Malformed: 0/800 | MAE: 34.20 | Accuracy: 1.38%\n"
     ]
    },
    {
     "name": "stdout",
     "output_type": "stream",
     "text": [
      "[Pseudo-Epoch 19] Total loss: 0.0613 | Malformed: 0/800 | MAE: 33.30 | Accuracy: 1.12%\n"
     ]
    },
    {
     "name": "stdout",
     "output_type": "stream",
     "text": [
      "[Pseudo-Epoch 20] Total loss: 0.0624 | Malformed: 0/800 | MAE: 33.40 | Accuracy: 1.12%\n"
     ]
    },
    {
     "name": "stdout",
     "output_type": "stream",
     "text": [
      "[Pseudo-Epoch 21] Total loss: 0.0638 | Malformed: 0/800 | MAE: 34.03 | Accuracy: 0.88%\n"
     ]
    },
    {
     "name": "stdout",
     "output_type": "stream",
     "text": [
      "[Pseudo-Epoch 22] Total loss: 0.0511 | Malformed: 0/800 | MAE: 33.73 | Accuracy: 0.88%\n"
     ]
    },
    {
     "name": "stdout",
     "output_type": "stream",
     "text": [
      "[Pseudo-Epoch 23] Total loss: 0.0415 | Malformed: 0/800 | MAE: 34.68 | Accuracy: 1.25%\n"
     ]
    },
    {
     "name": "stdout",
     "output_type": "stream",
     "text": [
      "[Pseudo-Epoch 24] Total loss: 0.0446 | Malformed: 0/800 | MAE: 34.48 | Accuracy: 0.50%\n"
     ]
    },
    {
     "name": "stdout",
     "output_type": "stream",
     "text": [
      "[Pseudo-Epoch 25] Total loss: 0.0343 | Malformed: 0/800 | MAE: 33.95 | Accuracy: 1.62%\n"
     ]
    },
    {
     "name": "stdout",
     "output_type": "stream",
     "text": [
      "[Pseudo-Epoch 26] Total loss: 0.0674 | Malformed: 1/800 | MAE: 33.32 | Accuracy: 1.38%\n"
     ]
    },
    {
     "name": "stdout",
     "output_type": "stream",
     "text": [
      "[Pseudo-Epoch 27] Total loss: 0.0390 | Malformed: 0/800 | MAE: 34.41 | Accuracy: 0.50%\n"
     ]
    },
    {
     "name": "stdout",
     "output_type": "stream",
     "text": [
      "[Pseudo-Epoch 28] Total loss: 0.0297 | Malformed: 0/800 | MAE: 33.47 | Accuracy: 0.62%\n"
     ]
    },
    {
     "name": "stdout",
     "output_type": "stream",
     "text": [
      "[Pseudo-Epoch 29] Total loss: 0.0315 | Malformed: 0/800 | MAE: 32.66 | Accuracy: 0.62%\n"
     ]
    },
    {
     "name": "stdout",
     "output_type": "stream",
     "text": [
      "[Pseudo-Epoch 30] Total loss: 0.0385 | Malformed: 0/800 | MAE: 33.95 | Accuracy: 1.88%\n"
     ]
    },
    {
     "name": "stdout",
     "output_type": "stream",
     "text": [
      "[Pseudo-Epoch 31] Total loss: 0.0293 | Malformed: 0/800 | MAE: 34.02 | Accuracy: 1.00%\n"
     ]
    },
    {
     "name": "stdout",
     "output_type": "stream",
     "text": [
      "[Pseudo-Epoch 32] Total loss: 0.0339 | Malformed: 0/800 | MAE: 34.16 | Accuracy: 1.50%\n"
     ]
    },
    {
     "name": "stdout",
     "output_type": "stream",
     "text": [
      "[Pseudo-Epoch 33] Total loss: 0.0350 | Malformed: 0/800 | MAE: 32.67 | Accuracy: 1.12%\n"
     ]
    },
    {
     "name": "stdout",
     "output_type": "stream",
     "text": [
      "[Pseudo-Epoch 34] Total loss: 0.0258 | Malformed: 0/800 | MAE: 33.26 | Accuracy: 0.75%\n"
     ]
    },
    {
     "name": "stdout",
     "output_type": "stream",
     "text": [
      "[Pseudo-Epoch 35] Total loss: 0.0421 | Malformed: 1/800 | MAE: 35.11 | Accuracy: 1.00%\n"
     ]
    },
    {
     "name": "stdout",
     "output_type": "stream",
     "text": [
      "[Pseudo-Epoch 36] Total loss: 0.0288 | Malformed: 0/800 | MAE: 33.19 | Accuracy: 2.50%\n"
     ]
    },
    {
     "name": "stdout",
     "output_type": "stream",
     "text": [
      "[Pseudo-Epoch 37] Total loss: 0.0186 | Malformed: 0/800 | MAE: 33.87 | Accuracy: 0.75%\n"
     ]
    },
    {
     "name": "stdout",
     "output_type": "stream",
     "text": [
      "[Pseudo-Epoch 38] Total loss: 0.0202 | Malformed: 0/800 | MAE: 32.59 | Accuracy: 0.88%\n"
     ]
    },
    {
     "name": "stdout",
     "output_type": "stream",
     "text": [
      "[Pseudo-Epoch 39] Total loss: 0.0170 | Malformed: 0/800 | MAE: 33.53 | Accuracy: 1.25%\n"
     ]
    },
    {
     "name": "stdout",
     "output_type": "stream",
     "text": [
      "[Pseudo-Epoch 40] Total loss: 0.0177 | Malformed: 0/800 | MAE: 32.85 | Accuracy: 1.25%\n"
     ]
    },
    {
     "name": "stdout",
     "output_type": "stream",
     "text": [
      "[Pseudo-Epoch 41] Total loss: 0.0244 | Malformed: 0/800 | MAE: 33.94 | Accuracy: 1.00%\n"
     ]
    },
    {
     "name": "stdout",
     "output_type": "stream",
     "text": [
      "[Pseudo-Epoch 42] Total loss: 0.0257 | Malformed: 0/800 | MAE: 34.62 | Accuracy: 1.25%\n"
     ]
    },
    {
     "name": "stdout",
     "output_type": "stream",
     "text": [
      "[Pseudo-Epoch 43] Total loss: 0.0243 | Malformed: 0/800 | MAE: 33.26 | Accuracy: 0.75%\n"
     ]
    },
    {
     "name": "stdout",
     "output_type": "stream",
     "text": [
      "[Pseudo-Epoch 44] Total loss: 0.0178 | Malformed: 0/800 | MAE: 33.85 | Accuracy: 0.88%\n"
     ]
    },
    {
     "name": "stdout",
     "output_type": "stream",
     "text": [
      "[Pseudo-Epoch 45] Total loss: 0.0212 | Malformed: 0/800 | MAE: 33.45 | Accuracy: 0.88%\n"
     ]
    },
    {
     "name": "stdout",
     "output_type": "stream",
     "text": [
      "[Pseudo-Epoch 46] Total loss: 0.0251 | Malformed: 0/800 | MAE: 33.66 | Accuracy: 0.75%\n"
     ]
    },
    {
     "name": "stdout",
     "output_type": "stream",
     "text": [
      "[Pseudo-Epoch 47] Total loss: 0.0137 | Malformed: 0/800 | MAE: 34.02 | Accuracy: 0.88%\n"
     ]
    },
    {
     "name": "stdout",
     "output_type": "stream",
     "text": [
      "[Pseudo-Epoch 48] Total loss: 0.0193 | Malformed: 0/800 | MAE: 35.43 | Accuracy: 1.25%\n"
     ]
    },
    {
     "name": "stdout",
     "output_type": "stream",
     "text": [
      "[Pseudo-Epoch 49] Total loss: 0.0224 | Malformed: 0/800 | MAE: 34.47 | Accuracy: 1.38%\n"
     ]
    },
    {
     "name": "stdout",
     "output_type": "stream",
     "text": [
      "[Pseudo-Epoch 50] Total loss: 0.0160 | Malformed: 0/800 | MAE: 34.24 | Accuracy: 1.12%\n"
     ]
    },
    {
     "name": "stdout",
     "output_type": "stream",
     "text": [
      "[Pseudo-Epoch 51] Total loss: 0.0346 | Malformed: 1/800 | MAE: 33.49 | Accuracy: 0.50%\n"
     ]
    },
    {
     "name": "stdout",
     "output_type": "stream",
     "text": [
      "[Pseudo-Epoch 52] Total loss: 0.0254 | Malformed: 1/800 | MAE: 34.30 | Accuracy: 1.12%\n"
     ]
    },
    {
     "name": "stdout",
     "output_type": "stream",
     "text": [
      "[Pseudo-Epoch 53] Total loss: 0.0147 | Malformed: 0/800 | MAE: 33.80 | Accuracy: 1.00%\n"
     ]
    },
    {
     "name": "stdout",
     "output_type": "stream",
     "text": [
      "[Pseudo-Epoch 54] Total loss: 0.0142 | Malformed: 0/800 | MAE: 34.01 | Accuracy: 0.88%\n"
     ]
    },
    {
     "name": "stdout",
     "output_type": "stream",
     "text": [
      "[Pseudo-Epoch 55] Total loss: 0.0215 | Malformed: 1/800 | MAE: 33.63 | Accuracy: 0.62%\n"
     ]
    },
    {
     "name": "stdout",
     "output_type": "stream",
     "text": [
      "[Pseudo-Epoch 56] Total loss: 0.0233 | Malformed: 1/800 | MAE: 33.55 | Accuracy: 1.12%\n"
     ]
    },
    {
     "name": "stdout",
     "output_type": "stream",
     "text": [
      "[Pseudo-Epoch 57] Total loss: 0.0193 | Malformed: 0/800 | MAE: 32.58 | Accuracy: 1.12%\n"
     ]
    },
    {
     "name": "stdout",
     "output_type": "stream",
     "text": [
      "[Pseudo-Epoch 58] Total loss: 0.0151 | Malformed: 0/800 | MAE: 34.38 | Accuracy: 1.00%\n"
     ]
    },
    {
     "name": "stdout",
     "output_type": "stream",
     "text": [
      "[Pseudo-Epoch 59] Total loss: 0.0155 | Malformed: 0/800 | MAE: 33.30 | Accuracy: 0.62%\n"
     ]
    },
    {
     "name": "stdout",
     "output_type": "stream",
     "text": [
      "[Pseudo-Epoch 60] Total loss: 0.0196 | Malformed: 1/800 | MAE: 33.94 | Accuracy: 0.88%\n"
     ]
    },
    {
     "name": "stdout",
     "output_type": "stream",
     "text": [
      "[Pseudo-Epoch 61] Total loss: 0.0159 | Malformed: 0/800 | MAE: 34.31 | Accuracy: 1.50%\n"
     ]
    },
    {
     "name": "stdout",
     "output_type": "stream",
     "text": [
      "[Pseudo-Epoch 62] Total loss: 0.0188 | Malformed: 0/800 | MAE: 33.59 | Accuracy: 0.62%\n"
     ]
    },
    {
     "name": "stdout",
     "output_type": "stream",
     "text": [
      "[Pseudo-Epoch 63] Total loss: 0.0183 | Malformed: 0/800 | MAE: 35.25 | Accuracy: 0.75%\n"
     ]
    },
    {
     "name": "stdout",
     "output_type": "stream",
     "text": [
      "[Pseudo-Epoch 64] Total loss: 0.0160 | Malformed: 0/800 | MAE: 35.05 | Accuracy: 0.62%\n"
     ]
    },
    {
     "name": "stdout",
     "output_type": "stream",
     "text": [
      "[Pseudo-Epoch 65] Total loss: 0.0117 | Malformed: 0/800 | MAE: 34.23 | Accuracy: 0.88%\n"
     ]
    },
    {
     "name": "stdout",
     "output_type": "stream",
     "text": [
      "[Pseudo-Epoch 66] Total loss: 0.0135 | Malformed: 0/800 | MAE: 34.39 | Accuracy: 0.62%\n"
     ]
    },
    {
     "name": "stdout",
     "output_type": "stream",
     "text": [
      "[Pseudo-Epoch 67] Total loss: 0.0166 | Malformed: 0/800 | MAE: 35.13 | Accuracy: 1.00%\n"
     ]
    },
    {
     "name": "stdout",
     "output_type": "stream",
     "text": [
      "[Pseudo-Epoch 68] Total loss: 0.0205 | Malformed: 1/800 | MAE: 34.74 | Accuracy: 1.00%\n"
     ]
    },
    {
     "name": "stdout",
     "output_type": "stream",
     "text": [
      "[Pseudo-Epoch 69] Total loss: 0.0117 | Malformed: 0/800 | MAE: 34.22 | Accuracy: 0.50%\n"
     ]
    },
    {
     "name": "stdout",
     "output_type": "stream",
     "text": [
      "[Pseudo-Epoch 70] Total loss: 0.0250 | Malformed: 1/800 | MAE: 34.85 | Accuracy: 1.25%\n"
     ]
    },
    {
     "name": "stdout",
     "output_type": "stream",
     "text": [
      "[Pseudo-Epoch 71] Total loss: 0.0119 | Malformed: 0/800 | MAE: 34.33 | Accuracy: 0.75%\n"
     ]
    },
    {
     "name": "stdout",
     "output_type": "stream",
     "text": [
      "[Pseudo-Epoch 72] Total loss: 0.0137 | Malformed: 0/800 | MAE: 35.13 | Accuracy: 0.50%\n"
     ]
    },
    {
     "name": "stdout",
     "output_type": "stream",
     "text": [
      "[Pseudo-Epoch 73] Total loss: 0.0106 | Malformed: 0/800 | MAE: 33.14 | Accuracy: 0.88%\n"
     ]
    },
    {
     "name": "stdout",
     "output_type": "stream",
     "text": [
      "[Pseudo-Epoch 74] Total loss: 0.0087 | Malformed: 0/800 | MAE: 34.21 | Accuracy: 1.38%\n"
     ]
    },
    {
     "name": "stdout",
     "output_type": "stream",
     "text": [
      "[Pseudo-Epoch 75] Total loss: 0.0085 | Malformed: 0/800 | MAE: 34.34 | Accuracy: 0.38%\n"
     ]
    },
    {
     "name": "stdout",
     "output_type": "stream",
     "text": [
      "[Pseudo-Epoch 76] Total loss: 0.0088 | Malformed: 0/800 | MAE: 33.60 | Accuracy: 0.75%\n"
     ]
    },
    {
     "name": "stdout",
     "output_type": "stream",
     "text": [
      "[Pseudo-Epoch 77] Total loss: 0.0099 | Malformed: 0/800 | MAE: 33.24 | Accuracy: 0.62%\n"
     ]
    },
    {
     "name": "stdout",
     "output_type": "stream",
     "text": [
      "[Pseudo-Epoch 78] Total loss: 0.0216 | Malformed: 1/800 | MAE: 34.13 | Accuracy: 0.38%\n"
     ]
    },
    {
     "name": "stdout",
     "output_type": "stream",
     "text": [
      "[Pseudo-Epoch 79] Total loss: 0.0039 | Malformed: 0/800 | MAE: 34.84 | Accuracy: 1.00%\n"
     ]
    },
    {
     "name": "stdout",
     "output_type": "stream",
     "text": [
      "[Pseudo-Epoch 80] Total loss: 0.0068 | Malformed: 0/800 | MAE: 33.27 | Accuracy: 0.75%\n"
     ]
    },
    {
     "name": "stdout",
     "output_type": "stream",
     "text": [
      "[Pseudo-Epoch 81] Total loss: 0.0079 | Malformed: 0/800 | MAE: 33.16 | Accuracy: 1.62%\n"
     ]
    },
    {
     "name": "stdout",
     "output_type": "stream",
     "text": [
      "[Pseudo-Epoch 82] Total loss: 0.0088 | Malformed: 0/800 | MAE: 34.41 | Accuracy: 1.00%\n"
     ]
    },
    {
     "name": "stdout",
     "output_type": "stream",
     "text": [
      "[Pseudo-Epoch 83] Total loss: 0.0106 | Malformed: 0/800 | MAE: 33.13 | Accuracy: 1.50%\n"
     ]
    },
    {
     "name": "stdout",
     "output_type": "stream",
     "text": [
      "[Pseudo-Epoch 84] Total loss: 0.0095 | Malformed: 0/800 | MAE: 32.72 | Accuracy: 1.75%\n"
     ]
    },
    {
     "name": "stdout",
     "output_type": "stream",
     "text": [
      "[Pseudo-Epoch 85] Total loss: 0.0092 | Malformed: 0/800 | MAE: 34.84 | Accuracy: 1.25%\n"
     ]
    },
    {
     "name": "stdout",
     "output_type": "stream",
     "text": [
      "[Pseudo-Epoch 86] Total loss: 0.0104 | Malformed: 0/800 | MAE: 33.35 | Accuracy: 1.12%\n"
     ]
    },
    {
     "name": "stdout",
     "output_type": "stream",
     "text": [
      "[Pseudo-Epoch 87] Total loss: 0.0107 | Malformed: 0/800 | MAE: 36.42 | Accuracy: 0.62%\n"
     ]
    },
    {
     "name": "stdout",
     "output_type": "stream",
     "text": [
      "[Pseudo-Epoch 88] Total loss: 0.0024 | Malformed: 0/800 | MAE: 34.15 | Accuracy: 0.88%\n"
     ]
    },
    {
     "name": "stdout",
     "output_type": "stream",
     "text": [
      "[Pseudo-Epoch 89] Total loss: 0.0059 | Malformed: 0/800 | MAE: 33.43 | Accuracy: 1.12%\n"
     ]
    },
    {
     "name": "stdout",
     "output_type": "stream",
     "text": [
      "[Pseudo-Epoch 90] Total loss: 0.0072 | Malformed: 0/800 | MAE: 33.15 | Accuracy: 1.12%\n"
     ]
    },
    {
     "name": "stdout",
     "output_type": "stream",
     "text": [
      "[Pseudo-Epoch 91] Total loss: 0.0067 | Malformed: 0/800 | MAE: 33.95 | Accuracy: 1.12%\n"
     ]
    },
    {
     "name": "stdout",
     "output_type": "stream",
     "text": [
      "[Pseudo-Epoch 92] Total loss: 0.0029 | Malformed: 0/800 | MAE: 34.37 | Accuracy: 0.62%\n"
     ]
    },
    {
     "name": "stdout",
     "output_type": "stream",
     "text": [
      "[Pseudo-Epoch 93] Total loss: 0.0026 | Malformed: 0/800 | MAE: 33.13 | Accuracy: 0.50%\n"
     ]
    },
    {
     "name": "stdout",
     "output_type": "stream",
     "text": [
      "[Pseudo-Epoch 94] Total loss: 0.0035 | Malformed: 0/800 | MAE: 33.74 | Accuracy: 1.50%\n"
     ]
    },
    {
     "name": "stdout",
     "output_type": "stream",
     "text": [
      "[Pseudo-Epoch 95] Total loss: 0.0071 | Malformed: 0/800 | MAE: 35.10 | Accuracy: 0.62%\n"
     ]
    },
    {
     "name": "stdout",
     "output_type": "stream",
     "text": [
      "[Pseudo-Epoch 96] Total loss: -0.0001 | Malformed: 0/800 | MAE: 32.70 | Accuracy: 1.00%\n"
     ]
    },
    {
     "name": "stdout",
     "output_type": "stream",
     "text": [
      "[Pseudo-Epoch 97] Total loss: 0.0041 | Malformed: 0/800 | MAE: 33.09 | Accuracy: 0.88%\n"
     ]
    },
    {
     "name": "stdout",
     "output_type": "stream",
     "text": [
      "[Pseudo-Epoch 98] Total loss: 0.0062 | Malformed: 0/800 | MAE: 34.73 | Accuracy: 1.00%\n"
     ]
    },
    {
     "name": "stdout",
     "output_type": "stream",
     "text": [
      "[Pseudo-Epoch 99] Total loss: 0.0046 | Malformed: 0/800 | MAE: 33.06 | Accuracy: 1.12%\n"
     ]
    },
    {
     "name": "stdout",
     "output_type": "stream",
     "text": [
      "[Pseudo-Epoch 100] Total loss: 0.0064 | Malformed: 0/800 | MAE: 33.81 | Accuracy: 0.50%\n"
     ]
    },
    {
     "name": "stdout",
     "output_type": "stream",
     "text": [
      "[Pseudo-Epoch 101] Total loss: 0.0113 | Malformed: 0/800 | MAE: 33.31 | Accuracy: 1.62%\n"
     ]
    },
    {
     "name": "stdout",
     "output_type": "stream",
     "text": [
      "[Pseudo-Epoch 102] Total loss: 0.0074 | Malformed: 0/800 | MAE: 34.51 | Accuracy: 1.25%\n"
     ]
    },
    {
     "name": "stdout",
     "output_type": "stream",
     "text": [
      "[Pseudo-Epoch 103] Total loss: 0.0026 | Malformed: 0/800 | MAE: 33.49 | Accuracy: 1.38%\n"
     ]
    },
    {
     "name": "stdout",
     "output_type": "stream",
     "text": [
      "[Pseudo-Epoch 104] Total loss: 0.0038 | Malformed: 0/800 | MAE: 34.42 | Accuracy: 1.00%\n"
     ]
    },
    {
     "name": "stdout",
     "output_type": "stream",
     "text": [
      "[Pseudo-Epoch 105] Total loss: 0.0053 | Malformed: 0/800 | MAE: 35.33 | Accuracy: 1.25%\n"
     ]
    },
    {
     "name": "stdout",
     "output_type": "stream",
     "text": [
      "[Pseudo-Epoch 106] Total loss: 0.0045 | Malformed: 0/800 | MAE: 34.84 | Accuracy: 1.00%\n"
     ]
    },
    {
     "name": "stdout",
     "output_type": "stream",
     "text": [
      "[Pseudo-Epoch 107] Total loss: 0.0059 | Malformed: 0/800 | MAE: 35.58 | Accuracy: 1.00%\n"
     ]
    },
    {
     "name": "stdout",
     "output_type": "stream",
     "text": [
      "[Pseudo-Epoch 108] Total loss: 0.0112 | Malformed: 1/800 | MAE: 33.43 | Accuracy: 1.25%\n"
     ]
    },
    {
     "name": "stdout",
     "output_type": "stream",
     "text": [
      "[Pseudo-Epoch 109] Total loss: 0.0046 | Malformed: 0/800 | MAE: 33.46 | Accuracy: 1.00%\n"
     ]
    },
    {
     "name": "stdout",
     "output_type": "stream",
     "text": [
      "[Pseudo-Epoch 110] Total loss: 0.0034 | Malformed: 0/800 | MAE: 35.02 | Accuracy: 0.50%\n"
     ]
    },
    {
     "name": "stdout",
     "output_type": "stream",
     "text": [
      "[Pseudo-Epoch 111] Total loss: 0.0069 | Malformed: 0/800 | MAE: 34.60 | Accuracy: 0.62%\n"
     ]
    },
    {
     "name": "stdout",
     "output_type": "stream",
     "text": [
      "[Pseudo-Epoch 112] Total loss: 0.0055 | Malformed: 0/800 | MAE: 33.52 | Accuracy: 1.00%\n"
     ]
    },
    {
     "name": "stdout",
     "output_type": "stream",
     "text": [
      "[Pseudo-Epoch 113] Total loss: 0.0038 | Malformed: 0/800 | MAE: 33.57 | Accuracy: 0.75%\n"
     ]
    },
    {
     "name": "stdout",
     "output_type": "stream",
     "text": [
      "[Pseudo-Epoch 114] Total loss: 0.0019 | Malformed: 0/800 | MAE: 34.96 | Accuracy: 1.12%\n"
     ]
    },
    {
     "name": "stdout",
     "output_type": "stream",
     "text": [
      "[Pseudo-Epoch 115] Total loss: 0.0054 | Malformed: 0/800 | MAE: 33.76 | Accuracy: 0.38%\n"
     ]
    },
    {
     "name": "stdout",
     "output_type": "stream",
     "text": [
      "[Pseudo-Epoch 116] Total loss: 0.0047 | Malformed: 0/800 | MAE: 34.28 | Accuracy: 1.00%\n"
     ]
    },
    {
     "name": "stdout",
     "output_type": "stream",
     "text": [
      "[Pseudo-Epoch 117] Total loss: 0.0013 | Malformed: 0/800 | MAE: 33.98 | Accuracy: 0.50%\n"
     ]
    },
    {
     "name": "stdout",
     "output_type": "stream",
     "text": [
      "[Pseudo-Epoch 118] Total loss: 0.0033 | Malformed: 0/800 | MAE: 33.71 | Accuracy: 0.38%\n"
     ]
    },
    {
     "name": "stdout",
     "output_type": "stream",
     "text": [
      "[Pseudo-Epoch 119] Total loss: -0.0002 | Malformed: 0/800 | MAE: 33.67 | Accuracy: 0.62%\n"
     ]
    },
    {
     "name": "stdout",
     "output_type": "stream",
     "text": [
      "[Pseudo-Epoch 120] Total loss: 0.0031 | Malformed: 0/800 | MAE: 33.44 | Accuracy: 0.88%\n"
     ]
    },
    {
     "name": "stdout",
     "output_type": "stream",
     "text": [
      "[Pseudo-Epoch 121] Total loss: 0.0046 | Malformed: 0/800 | MAE: 34.35 | Accuracy: 1.00%\n"
     ]
    },
    {
     "name": "stdout",
     "output_type": "stream",
     "text": [
      "[Pseudo-Epoch 122] Total loss: 0.0058 | Malformed: 0/800 | MAE: 34.80 | Accuracy: 0.50%\n"
     ]
    },
    {
     "name": "stdout",
     "output_type": "stream",
     "text": [
      "[Pseudo-Epoch 123] Total loss: 0.0013 | Malformed: 0/800 | MAE: 34.55 | Accuracy: 0.75%\n"
     ]
    },
    {
     "name": "stdout",
     "output_type": "stream",
     "text": [
      "[Pseudo-Epoch 124] Total loss: 0.0011 | Malformed: 0/800 | MAE: 34.29 | Accuracy: 1.00%\n"
     ]
    },
    {
     "name": "stdout",
     "output_type": "stream",
     "text": [
      "[Pseudo-Epoch 125] Total loss: 0.0032 | Malformed: 0/800 | MAE: 33.49 | Accuracy: 1.00%\n"
     ]
    },
    {
     "name": "stdout",
     "output_type": "stream",
     "text": [
      "[Pseudo-Epoch 126] Total loss: 0.0019 | Malformed: 0/800 | MAE: 33.91 | Accuracy: 0.88%\n"
     ]
    },
    {
     "name": "stdout",
     "output_type": "stream",
     "text": [
      "[Pseudo-Epoch 127] Total loss: 0.0025 | Malformed: 0/800 | MAE: 33.49 | Accuracy: 1.12%\n"
     ]
    },
    {
     "name": "stdout",
     "output_type": "stream",
     "text": [
      "[Pseudo-Epoch 128] Total loss: 0.0056 | Malformed: 0/800 | MAE: 34.17 | Accuracy: 0.75%\n"
     ]
    },
    {
     "name": "stdout",
     "output_type": "stream",
     "text": [
      "[Pseudo-Epoch 129] Total loss: 0.0013 | Malformed: 0/800 | MAE: 35.80 | Accuracy: 1.25%\n"
     ]
    },
    {
     "name": "stdout",
     "output_type": "stream",
     "text": [
      "[Pseudo-Epoch 130] Total loss: 0.0099 | Malformed: 1/800 | MAE: 35.14 | Accuracy: 1.25%\n"
     ]
    },
    {
     "name": "stdout",
     "output_type": "stream",
     "text": [
      "[Pseudo-Epoch 131] Total loss: 0.0066 | Malformed: 1/800 | MAE: 35.31 | Accuracy: 0.62%\n"
     ]
    },
    {
     "name": "stdout",
     "output_type": "stream",
     "text": [
      "[Pseudo-Epoch 132] Total loss: 0.0045 | Malformed: 0/800 | MAE: 33.19 | Accuracy: 1.38%\n"
     ]
    },
    {
     "name": "stdout",
     "output_type": "stream",
     "text": [
      "[Pseudo-Epoch 133] Total loss: 0.0015 | Malformed: 0/800 | MAE: 33.19 | Accuracy: 1.38%\n"
     ]
    },
    {
     "name": "stdout",
     "output_type": "stream",
     "text": [
      "[Pseudo-Epoch 134] Total loss: 0.0022 | Malformed: 0/800 | MAE: 33.63 | Accuracy: 0.88%\n"
     ]
    },
    {
     "name": "stdout",
     "output_type": "stream",
     "text": [
      "[Pseudo-Epoch 135] Total loss: 0.0054 | Malformed: 0/800 | MAE: 34.23 | Accuracy: 1.12%\n"
     ]
    },
    {
     "name": "stdout",
     "output_type": "stream",
     "text": [
      "[Pseudo-Epoch 136] Total loss: 0.0030 | Malformed: 0/800 | MAE: 33.35 | Accuracy: 0.75%\n"
     ]
    },
    {
     "name": "stdout",
     "output_type": "stream",
     "text": [
      "[Pseudo-Epoch 137] Total loss: -0.0001 | Malformed: 0/800 | MAE: 34.20 | Accuracy: 0.88%\n"
     ]
    },
    {
     "name": "stdout",
     "output_type": "stream",
     "text": [
      "[Pseudo-Epoch 138] Total loss: 0.0005 | Malformed: 0/800 | MAE: 33.85 | Accuracy: 1.25%\n"
     ]
    },
    {
     "name": "stdout",
     "output_type": "stream",
     "text": [
      "[Pseudo-Epoch 139] Total loss: 0.0054 | Malformed: 0/800 | MAE: 32.71 | Accuracy: 1.50%\n"
     ]
    },
    {
     "name": "stdout",
     "output_type": "stream",
     "text": [
      "[Pseudo-Epoch 140] Total loss: 0.0012 | Malformed: 0/800 | MAE: 34.40 | Accuracy: 1.12%\n"
     ]
    },
    {
     "name": "stdout",
     "output_type": "stream",
     "text": [
      "[Pseudo-Epoch 141] Total loss: 0.0052 | Malformed: 0/800 | MAE: 34.81 | Accuracy: 1.00%\n"
     ]
    },
    {
     "name": "stdout",
     "output_type": "stream",
     "text": [
      "[Pseudo-Epoch 142] Total loss: 0.0029 | Malformed: 0/800 | MAE: 31.91 | Accuracy: 1.75%\n"
     ]
    },
    {
     "name": "stdout",
     "output_type": "stream",
     "text": [
      "[Pseudo-Epoch 143] Total loss: 0.0018 | Malformed: 0/800 | MAE: 34.51 | Accuracy: 0.75%\n"
     ]
    },
    {
     "name": "stdout",
     "output_type": "stream",
     "text": [
      "[Pseudo-Epoch 144] Total loss: 0.0041 | Malformed: 0/800 | MAE: 34.24 | Accuracy: 0.88%\n"
     ]
    },
    {
     "name": "stdout",
     "output_type": "stream",
     "text": [
      "[Pseudo-Epoch 145] Total loss: 0.0016 | Malformed: 0/800 | MAE: 34.15 | Accuracy: 1.25%\n"
     ]
    },
    {
     "name": "stdout",
     "output_type": "stream",
     "text": [
      "[Pseudo-Epoch 146] Total loss: 0.0000 | Malformed: 0/800 | MAE: 35.55 | Accuracy: 1.62%\n"
     ]
    },
    {
     "name": "stdout",
     "output_type": "stream",
     "text": [
      "[Pseudo-Epoch 147] Total loss: 0.0011 | Malformed: 0/800 | MAE: 33.74 | Accuracy: 1.00%\n"
     ]
    },
    {
     "name": "stdout",
     "output_type": "stream",
     "text": [
      "[Pseudo-Epoch 148] Total loss: 0.0030 | Malformed: 0/800 | MAE: 32.75 | Accuracy: 1.12%\n"
     ]
    },
    {
     "name": "stdout",
     "output_type": "stream",
     "text": [
      "[Pseudo-Epoch 149] Total loss: 0.0001 | Malformed: 0/800 | MAE: 33.87 | Accuracy: 0.62%\n"
     ]
    },
    {
     "name": "stdout",
     "output_type": "stream",
     "text": [
      "[Pseudo-Epoch 150] Total loss: 0.0012 | Malformed: 0/800 | MAE: 33.08 | Accuracy: 0.75%\n"
     ]
    },
    {
     "name": "stdout",
     "output_type": "stream",
     "text": [
      "[Pseudo-Epoch 151] Total loss: 0.0016 | Malformed: 0/800 | MAE: 34.24 | Accuracy: 0.62%\n"
     ]
    },
    {
     "name": "stdout",
     "output_type": "stream",
     "text": [
      "[Pseudo-Epoch 152] Total loss: 0.0026 | Malformed: 0/800 | MAE: 33.49 | Accuracy: 0.88%\n"
     ]
    },
    {
     "name": "stdout",
     "output_type": "stream",
     "text": [
      "[Pseudo-Epoch 153] Total loss: 0.0015 | Malformed: 0/800 | MAE: 34.47 | Accuracy: 1.12%\n"
     ]
    },
    {
     "name": "stdout",
     "output_type": "stream",
     "text": [
      "[Pseudo-Epoch 154] Total loss: 0.0052 | Malformed: 0/800 | MAE: 32.38 | Accuracy: 1.25%\n"
     ]
    },
    {
     "name": "stdout",
     "output_type": "stream",
     "text": [
      "[Pseudo-Epoch 155] Total loss: 0.0057 | Malformed: 0/800 | MAE: 34.75 | Accuracy: 0.62%\n"
     ]
    },
    {
     "name": "stdout",
     "output_type": "stream",
     "text": [
      "[Pseudo-Epoch 156] Total loss: 0.0006 | Malformed: 0/800 | MAE: 33.45 | Accuracy: 0.88%\n"
     ]
    },
    {
     "name": "stdout",
     "output_type": "stream",
     "text": [
      "[Pseudo-Epoch 157] Total loss: 0.0004 | Malformed: 0/800 | MAE: 33.37 | Accuracy: 0.88%\n"
     ]
    },
    {
     "name": "stdout",
     "output_type": "stream",
     "text": [
      "[Pseudo-Epoch 158] Total loss: 0.0015 | Malformed: 0/800 | MAE: 34.52 | Accuracy: 0.62%\n"
     ]
    },
    {
     "name": "stdout",
     "output_type": "stream",
     "text": [
      "[Pseudo-Epoch 159] Total loss: 0.0014 | Malformed: 0/800 | MAE: 34.15 | Accuracy: 1.00%\n"
     ]
    },
    {
     "name": "stdout",
     "output_type": "stream",
     "text": [
      "[Pseudo-Epoch 160] Total loss: 0.0004 | Malformed: 0/800 | MAE: 34.88 | Accuracy: 0.62%\n"
     ]
    },
    {
     "name": "stdout",
     "output_type": "stream",
     "text": [
      "[Pseudo-Epoch 161] Total loss: -0.0012 | Malformed: 0/800 | MAE: 33.99 | Accuracy: 1.75%\n"
     ]
    },
    {
     "name": "stdout",
     "output_type": "stream",
     "text": [
      "[Pseudo-Epoch 162] Total loss: 0.0044 | Malformed: 0/800 | MAE: 34.37 | Accuracy: 1.12%\n"
     ]
    },
    {
     "name": "stdout",
     "output_type": "stream",
     "text": [
      "[Pseudo-Epoch 163] Total loss: -0.0010 | Malformed: 0/800 | MAE: 34.89 | Accuracy: 1.00%\n"
     ]
    },
    {
     "name": "stdout",
     "output_type": "stream",
     "text": [
      "[Pseudo-Epoch 164] Total loss: 0.0001 | Malformed: 0/800 | MAE: 33.30 | Accuracy: 0.88%\n"
     ]
    },
    {
     "name": "stdout",
     "output_type": "stream",
     "text": [
      "[Pseudo-Epoch 165] Total loss: -0.0007 | Malformed: 0/800 | MAE: 32.51 | Accuracy: 1.62%\n"
     ]
    },
    {
     "name": "stdout",
     "output_type": "stream",
     "text": [
      "[Pseudo-Epoch 166] Total loss: 0.0014 | Malformed: 0/800 | MAE: 33.40 | Accuracy: 0.88%\n"
     ]
    },
    {
     "name": "stdout",
     "output_type": "stream",
     "text": [
      "[Pseudo-Epoch 167] Total loss: 0.0013 | Malformed: 0/800 | MAE: 33.66 | Accuracy: 1.25%\n"
     ]
    },
    {
     "name": "stdout",
     "output_type": "stream",
     "text": [
      "[Pseudo-Epoch 168] Total loss: 0.0017 | Malformed: 0/800 | MAE: 33.89 | Accuracy: 0.75%\n"
     ]
    },
    {
     "name": "stdout",
     "output_type": "stream",
     "text": [
      "[Pseudo-Epoch 169] Total loss: 0.0007 | Malformed: 0/800 | MAE: 33.24 | Accuracy: 0.62%\n"
     ]
    },
    {
     "name": "stdout",
     "output_type": "stream",
     "text": [
      "[Pseudo-Epoch 170] Total loss: 0.0013 | Malformed: 0/800 | MAE: 33.30 | Accuracy: 1.00%\n"
     ]
    },
    {
     "name": "stdout",
     "output_type": "stream",
     "text": [
      "[Pseudo-Epoch 171] Total loss: -0.0013 | Malformed: 0/800 | MAE: 33.60 | Accuracy: 1.00%\n"
     ]
    },
    {
     "name": "stdout",
     "output_type": "stream",
     "text": [
      "[Pseudo-Epoch 172] Total loss: 0.0007 | Malformed: 0/800 | MAE: 33.54 | Accuracy: 1.25%\n"
     ]
    },
    {
     "name": "stdout",
     "output_type": "stream",
     "text": [
      "[Pseudo-Epoch 173] Total loss: 0.0021 | Malformed: 0/800 | MAE: 34.66 | Accuracy: 0.50%\n"
     ]
    },
    {
     "name": "stdout",
     "output_type": "stream",
     "text": [
      "[Pseudo-Epoch 174] Total loss: 0.0016 | Malformed: 0/800 | MAE: 31.65 | Accuracy: 1.62%\n"
     ]
    },
    {
     "name": "stdout",
     "output_type": "stream",
     "text": [
      "[Pseudo-Epoch 175] Total loss: -0.0000 | Malformed: 0/800 | MAE: 33.19 | Accuracy: 1.12%\n"
     ]
    },
    {
     "name": "stdout",
     "output_type": "stream",
     "text": [
      "[Pseudo-Epoch 176] Total loss: 0.0020 | Malformed: 0/800 | MAE: 33.97 | Accuracy: 0.62%\n"
     ]
    },
    {
     "name": "stdout",
     "output_type": "stream",
     "text": [
      "[Pseudo-Epoch 177] Total loss: 0.0014 | Malformed: 0/800 | MAE: 33.95 | Accuracy: 0.62%\n"
     ]
    },
    {
     "name": "stdout",
     "output_type": "stream",
     "text": [
      "[Pseudo-Epoch 178] Total loss: 0.0017 | Malformed: 0/800 | MAE: 34.14 | Accuracy: 0.25%\n"
     ]
    },
    {
     "name": "stdout",
     "output_type": "stream",
     "text": [
      "[Pseudo-Epoch 179] Total loss: 0.0011 | Malformed: 0/800 | MAE: 32.97 | Accuracy: 1.00%\n"
     ]
    },
    {
     "name": "stdout",
     "output_type": "stream",
     "text": [
      "[Pseudo-Epoch 180] Total loss: -0.0022 | Malformed: 0/800 | MAE: 33.57 | Accuracy: 1.25%\n"
     ]
    },
    {
     "name": "stdout",
     "output_type": "stream",
     "text": [
      "[Pseudo-Epoch 181] Total loss: 0.0014 | Malformed: 0/800 | MAE: 34.05 | Accuracy: 0.62%\n"
     ]
    },
    {
     "name": "stdout",
     "output_type": "stream",
     "text": [
      "[Pseudo-Epoch 182] Total loss: 0.0003 | Malformed: 0/800 | MAE: 33.06 | Accuracy: 1.00%\n"
     ]
    },
    {
     "name": "stdout",
     "output_type": "stream",
     "text": [
      "[Pseudo-Epoch 183] Total loss: -0.0007 | Malformed: 0/800 | MAE: 33.02 | Accuracy: 1.00%\n"
     ]
    },
    {
     "name": "stdout",
     "output_type": "stream",
     "text": [
      "[Pseudo-Epoch 184] Total loss: 0.0002 | Malformed: 0/800 | MAE: 34.17 | Accuracy: 0.75%\n"
     ]
    },
    {
     "name": "stdout",
     "output_type": "stream",
     "text": [
      "[Pseudo-Epoch 185] Total loss: 0.0002 | Malformed: 0/800 | MAE: 31.86 | Accuracy: 1.25%\n"
     ]
    },
    {
     "name": "stdout",
     "output_type": "stream",
     "text": [
      "[Pseudo-Epoch 186] Total loss: 0.0007 | Malformed: 0/800 | MAE: 34.02 | Accuracy: 0.50%\n"
     ]
    },
    {
     "name": "stdout",
     "output_type": "stream",
     "text": [
      "[Pseudo-Epoch 187] Total loss: 0.0012 | Malformed: 0/800 | MAE: 34.41 | Accuracy: 1.00%\n"
     ]
    },
    {
     "name": "stdout",
     "output_type": "stream",
     "text": [
      "[Pseudo-Epoch 188] Total loss: 0.0018 | Malformed: 0/800 | MAE: 34.01 | Accuracy: 0.88%\n"
     ]
    },
    {
     "name": "stdout",
     "output_type": "stream",
     "text": [
      "[Pseudo-Epoch 189] Total loss: 0.0003 | Malformed: 0/800 | MAE: 34.31 | Accuracy: 1.12%\n"
     ]
    },
    {
     "name": "stdout",
     "output_type": "stream",
     "text": [
      "[Pseudo-Epoch 190] Total loss: -0.0005 | Malformed: 0/800 | MAE: 34.08 | Accuracy: 1.12%\n"
     ]
    },
    {
     "name": "stdout",
     "output_type": "stream",
     "text": [
      "[Pseudo-Epoch 191] Total loss: 0.0005 | Malformed: 0/800 | MAE: 34.39 | Accuracy: 1.00%\n"
     ]
    },
    {
     "name": "stdout",
     "output_type": "stream",
     "text": [
      "[Pseudo-Epoch 192] Total loss: -0.0017 | Malformed: 0/800 | MAE: 33.51 | Accuracy: 1.50%\n"
     ]
    },
    {
     "name": "stdout",
     "output_type": "stream",
     "text": [
      "[Pseudo-Epoch 193] Total loss: 0.0012 | Malformed: 0/800 | MAE: 33.67 | Accuracy: 0.38%\n"
     ]
    },
    {
     "name": "stdout",
     "output_type": "stream",
     "text": [
      "[Pseudo-Epoch 194] Total loss: -0.0001 | Malformed: 0/800 | MAE: 33.88 | Accuracy: 0.25%\n"
     ]
    },
    {
     "name": "stdout",
     "output_type": "stream",
     "text": [
      "[Pseudo-Epoch 195] Total loss: -0.0007 | Malformed: 0/800 | MAE: 33.93 | Accuracy: 0.88%\n"
     ]
    },
    {
     "name": "stdout",
     "output_type": "stream",
     "text": [
      "[Pseudo-Epoch 196] Total loss: 0.0013 | Malformed: 0/800 | MAE: 33.50 | Accuracy: 0.50%\n"
     ]
    },
    {
     "name": "stdout",
     "output_type": "stream",
     "text": [
      "[Pseudo-Epoch 197] Total loss: 0.0003 | Malformed: 0/800 | MAE: 34.22 | Accuracy: 1.00%\n"
     ]
    },
    {
     "name": "stdout",
     "output_type": "stream",
     "text": [
      "[Pseudo-Epoch 198] Total loss: 0.0008 | Malformed: 0/800 | MAE: 34.49 | Accuracy: 1.00%\n"
     ]
    },
    {
     "name": "stdout",
     "output_type": "stream",
     "text": [
      "[Pseudo-Epoch 199] Total loss: 0.0060 | Malformed: 1/800 | MAE: 33.79 | Accuracy: 0.50%\n"
     ]
    },
    {
     "name": "stdout",
     "output_type": "stream",
     "text": [
      "[Pseudo-Epoch 200] Total loss: -0.0004 | Malformed: 0/800 | MAE: 32.63 | Accuracy: 1.38%\n"
     ]
    }
   ],
   "source": [
    "config = Configuration()\n",
    "log = train(config)"
   ]
  },
  {
   "cell_type": "markdown",
   "metadata": {
    "id": "UOs0BwzWz_T1"
   },
   "source": [
    "## Task 3: Plot"
   ]
  },
  {
   "cell_type": "code",
   "execution_count": 9,
   "metadata": {
    "ExecuteTime": {
     "end_time": "2025-06-01T15:12:37.147914Z",
     "start_time": "2025-05-26T14:40:16.137482Z"
    },
    "execution": {
     "iopub.execute_input": "2025-06-01T18:09:47.223465Z",
     "iopub.status.busy": "2025-06-01T18:09:47.222351Z",
     "iopub.status.idle": "2025-06-01T18:09:47.890895Z",
     "shell.execute_reply": "2025-06-01T18:09:47.890570Z"
    },
    "id": "bOmcytzxz_T1"
   },
   "outputs": [
    {
     "data": {
      "image/png": "[encoded data removed]",
      "text/plain": [
       "<Figure size 1000x600 with 2 Axes>"
      ]
     },
     "metadata": {},
     "output_type": "display_data"
    },
    {
     "data": {
      "image/png": "[encoded data removed]",
      "text/plain": [
       "<Figure size 1000x600 with 2 Axes>"
      ]
     },
     "metadata": {},
     "output_type": "display_data"
    }
   ],
   "source": [
    "def plot(log):\n",
    "    moving_average = lambda values, window_size: np.convolve(values, np.ones(window_size) / window_size, mode='valid')\n",
    "\n",
    "    ws = 1000\n",
    "    steps = list(range(ws // 2, len(log['actor_loss']) + 1 - ws // 2))\n",
    "\n",
    "    actor_loss = moving_average(log['actor_loss'], ws)\n",
    "    critic_loss = moving_average(log['critic_loss'], ws)\n",
    "    entropy_loss = moving_average(log['entropy_loss'], ws)\n",
    "\n",
    "    color1 = 'tab:blue'\n",
    "    color2 = 'tab:orange'\n",
    "    color3 = 'tab:green'\n",
    "    color4 = 'tab:red'\n",
    "\n",
    "    fig, ax1 = plt.subplots(figsize=(10, 6))\n",
    "    ln1 = ax1.plot(steps, actor_loss, label='Policy loss (actor)', color=color1)\n",
    "    ln2 = ax1.plot(steps, critic_loss, label='Value loss (critic)', color=color2)\n",
    "    ax1.set_xlabel('Training step')\n",
    "    ax1.set_ylabel('Actor/Critic Loss')\n",
    "    ax1.tick_params(axis='y')\n",
    "\n",
    "    ax2 = ax1.twinx()\n",
    "    ln3 = ax2.plot(steps, entropy_loss, label='Entropy loss', color=color3)\n",
    "    ax2.set_ylabel('Entropy Loss')\n",
    "    ax2.tick_params(axis='y')\n",
    "\n",
    "    lines = ln1 + ln2 + ln3\n",
    "    labels = [l.get_label() for l in lines]\n",
    "    ax1.legend(lines, labels)\n",
    "\n",
    "    plt.title('PPO Loss Components over Training')\n",
    "    plt.tight_layout()\n",
    "    plt.show()\n",
    "\n",
    "    mae = moving_average(log['mean_absolute_error'], ws)\n",
    "    accuracy = moving_average(log['accuracy'] * 100, ws)\n",
    "\n",
    "    fig, ax1 = plt.subplots(figsize=(10, 6))\n",
    "    ln1 = ax1.plot(steps, mae, color=color1, label='MAE')\n",
    "    ax1.set_xlabel('Training step')\n",
    "    ax1.set_ylabel('Mean Absolute Error')\n",
    "    ax1.tick_params(axis='y')\n",
    "\n",
    "    ax2 = ax1.twinx()\n",
    "    ln2 = ax2.plot(steps, accuracy, color=color4, label='Accuracy')\n",
    "    ax2.set_ylabel('Accuracy (%)')\n",
    "    ax2.tick_params(axis='y')\n",
    "\n",
    "    lines = ln1 + ln2\n",
    "    labels = [l.get_label() for l in lines]\n",
    "    ax1.legend(lines, labels, loc='center right')\n",
    "\n",
    "    plt.title('MAE and Accuracy over Training')\n",
    "    fig.tight_layout()\n",
    "    plt.show()\n",
    "\n",
    "\n",
    "plot(log)"
   ]
  },
  {
   "cell_type": "markdown",
   "metadata": {
    "id": "KRRMl5jZz_T2"
   },
   "source": [
    "There is a clear positive trend in accuracy. The MAE improves greatly and keeps on improving.\n",
    "\n",
    "Possible improvements:\n",
    "- gradually increase the bonus for perfect answers\n",
    "- gradually increase the penalty for malformed outputs\n",
    "- gradually increase the penalty for large errors\n",
    "\n",
    "A simple reward scheduler should do it. See [my Scheduler implementation](./my_lib/scheduler/showcases/scheduler_showcase.ipynb) here. I'm not going to test it, it was just a fun exercise."
   ]
  }
 ],
 "metadata": {
  "accelerator": "GPU",
  "colab": {
   "gpuType": "T4",
   "provenance": []
  },
  "kernelspec": {
   "display_name": "study",
   "language": "python",
   "name": "python3"
  },
  "language_info": {
   "codemirror_mode": {
    "name": "ipython",
    "version": 3
   },
   "file_extension": ".py",
   "mimetype": "text/x-python",
   "name": "python",
   "nbconvert_exporter": "python",
   "pygments_lexer": "ipython3",
   "version": "3.10.17"
  },
  "widgets": {
   "application/vnd.jupyter.widget-state+json": {
    "state": {
     "1fa37330961b426a836c833651b7ab90": {
      "model_module": "@jupyter-widgets/controls",
      "model_module_version": "2.0.0",
      "model_name": "HTMLModel",
      "state": {
       "_dom_classes": [],
       "_model_module": "@jupyter-widgets/controls",
       "_model_module_version": "2.0.0",
       "_model_name": "HTMLModel",
       "_view_count": null,
       "_view_module": "@jupyter-widgets/controls",
       "_view_module_version": "2.0.0",
       "_view_name": "HTMLView",
       "description": "",
       "description_allow_html": false,
       "layout": "IPY_MODEL_8f342069ad78425ea5415f4301cb85e0",
       "placeholder": "​",
       "style": "IPY_MODEL_87d17b087d2f4c709cae412b329cce6c",
       "tabbable": null,
       "tooltip": null,
       "value": "100%"
      }
     },
     "57ae58fa7db847d3b5bfedafc9de8a2c": {
      "model_module": "@jupyter-widgets/base",
      "model_module_version": "2.0.0",
      "model_name": "LayoutModel",
      "state": {
       "_model_module": "@jupyter-widgets/base",
       "_model_module_version": "2.0.0",
       "_model_name": "LayoutModel",
       "_view_count": null,
       "_view_module": "@jupyter-widgets/base",
       "_view_module_version": "2.0.0",
       "_view_name": "LayoutView",
       "align_content": null,
       "align_items": null,
       "align_self": null,
       "border_bottom": null,
       "border_left": null,
       "border_right": null,
       "border_top": null,
       "bottom": null,
       "display": null,
       "flex": null,
       "flex_flow": null,
       "grid_area": null,
       "grid_auto_columns": null,
       "grid_auto_flow": null,
       "grid_auto_rows": null,
       "grid_column": null,
       "grid_gap": null,
       "grid_row": null,
       "grid_template_areas": null,
       "grid_template_columns": null,
       "grid_template_rows": null,
       "height": null,
       "justify_content": null,
       "justify_items": null,
       "left": null,
       "margin": null,
       "max_height": null,
       "max_width": null,
       "min_height": null,
       "min_width": null,
       "object_fit": null,
       "object_position": null,
       "order": null,
       "overflow": null,
       "padding": null,
       "right": null,
       "top": null,
       "visibility": null,
       "width": null
      }
     },
     "6ef96a8a23db4d16a25094c051eeb2e0": {
      "model_module": "@jupyter-widgets/controls",
      "model_module_version": "2.0.0",
      "model_name": "HTMLStyleModel",
      "state": {
       "_model_module": "@jupyter-widgets/controls",
       "_model_module_version": "2.0.0",
       "_model_name": "HTMLStyleModel",
       "_view_count": null,
       "_view_module": "@jupyter-widgets/base",
       "_view_module_version": "2.0.0",
       "_view_name": "StyleView",
       "background": null,
       "description_width": "",
       "font_size": null,
       "text_color": null
      }
     },
     "73ba4c4f2e8e42b1b667aa359e79743c": {
      "model_module": "@jupyter-widgets/controls",
      "model_module_version": "2.0.0",
      "model_name": "HTMLModel",
      "state": {
       "_dom_classes": [],
       "_model_module": "@jupyter-widgets/controls",
       "_model_module_version": "2.0.0",
       "_model_name": "HTMLModel",
       "_view_count": null,
       "_view_module": "@jupyter-widgets/controls",
       "_view_module_version": "2.0.0",
       "_view_name": "HTMLView",
       "description": "",
       "description_allow_html": false,
       "layout": "IPY_MODEL_e1fd610b33ee415ab344c38b758203bb",
       "placeholder": "​",
       "style": "IPY_MODEL_6ef96a8a23db4d16a25094c051eeb2e0",
       "tabbable": null,
       "tooltip": null,
       "value": " 20000/20000 [2:45:06&lt;00:00,  2.59s/it]"
      }
     },
     "831a14d9fc754853a29f7437655d3660": {
      "model_module": "@jupyter-widgets/controls",
      "model_module_version": "2.0.0",
      "model_name": "ProgressStyleModel",
      "state": {
       "_model_module": "@jupyter-widgets/controls",
       "_model_module_version": "2.0.0",
       "_model_name": "ProgressStyleModel",
       "_view_count": null,
       "_view_module": "@jupyter-widgets/base",
       "_view_module_version": "2.0.0",
       "_view_name": "StyleView",
       "bar_color": null,
       "description_width": ""
      }
     },
     "87d17b087d2f4c709cae412b329cce6c": {
      "model_module": "@jupyter-widgets/controls",
      "model_module_version": "2.0.0",
      "model_name": "HTMLStyleModel",
      "state": {
       "_model_module": "@jupyter-widgets/controls",
       "_model_module_version": "2.0.0",
       "_model_name": "HTMLStyleModel",
       "_view_count": null,
       "_view_module": "@jupyter-widgets/base",
       "_view_module_version": "2.0.0",
       "_view_name": "StyleView",
       "background": null,
       "description_width": "",
       "font_size": null,
       "text_color": null
      }
     },
     "8f342069ad78425ea5415f4301cb85e0": {
      "model_module": "@jupyter-widgets/base",
      "model_module_version": "2.0.0",
      "model_name": "LayoutModel",
      "state": {
       "_model_module": "@jupyter-widgets/base",
       "_model_module_version": "2.0.0",
       "_model_name": "LayoutModel",
       "_view_count": null,
       "_view_module": "@jupyter-widgets/base",
       "_view_module_version": "2.0.0",
       "_view_name": "LayoutView",
       "align_content": null,
       "align_items": null,
       "align_self": null,
       "border_bottom": null,
       "border_left": null,
       "border_right": null,
       "border_top": null,
       "bottom": null,
       "display": null,
       "flex": null,
       "flex_flow": null,
       "grid_area": null,
       "grid_auto_columns": null,
       "grid_auto_flow": null,
       "grid_auto_rows": null,
       "grid_column": null,
       "grid_gap": null,
       "grid_row": null,
       "grid_template_areas": null,
       "grid_template_columns": null,
       "grid_template_rows": null,
       "height": null,
       "justify_content": null,
       "justify_items": null,
       "left": null,
       "margin": null,
       "max_height": null,
       "max_width": null,
       "min_height": null,
       "min_width": null,
       "object_fit": null,
       "object_position": null,
       "order": null,
       "overflow": null,
       "padding": null,
       "right": null,
       "top": null,
       "visibility": null,
       "width": null
      }
     },
     "d0cdfd10cb5d4dba8bfb893847394d70": {
      "model_module": "@jupyter-widgets/base",
      "model_module_version": "2.0.0",
      "model_name": "LayoutModel",
      "state": {
       "_model_module": "@jupyter-widgets/base",
       "_model_module_version": "2.0.0",
       "_model_name": "LayoutModel",
       "_view_count": null,
       "_view_module": "@jupyter-widgets/base",
       "_view_module_version": "2.0.0",
       "_view_name": "LayoutView",
       "align_content": null,
       "align_items": null,
       "align_self": null,
       "border_bottom": null,
       "border_left": null,
       "border_right": null,
       "border_top": null,
       "bottom": null,
       "display": null,
       "flex": null,
       "flex_flow": null,
       "grid_area": null,
       "grid_auto_columns": null,
       "grid_auto_flow": null,
       "grid_auto_rows": null,
       "grid_column": null,
       "grid_gap": null,
       "grid_row": null,
       "grid_template_areas": null,
       "grid_template_columns": null,
       "grid_template_rows": null,
       "height": null,
       "justify_content": null,
       "justify_items": null,
       "left": null,
       "margin": null,
       "max_height": null,
       "max_width": null,
       "min_height": null,
       "min_width": null,
       "object_fit": null,
       "object_position": null,
       "order": null,
       "overflow": null,
       "padding": null,
       "right": null,
       "top": null,
       "visibility": null,
       "width": null
      }
     },
     "dee97cf9891847e394f51f24871ed0bf": {
      "model_module": "@jupyter-widgets/controls",
      "model_module_version": "2.0.0",
      "model_name": "FloatProgressModel",
      "state": {
       "_dom_classes": [],
       "_model_module": "@jupyter-widgets/controls",
       "_model_module_version": "2.0.0",
       "_model_name": "FloatProgressModel",
       "_view_count": null,
       "_view_module": "@jupyter-widgets/controls",
       "_view_module_version": "2.0.0",
       "_view_name": "ProgressView",
       "bar_style": "success",
       "description": "",
       "description_allow_html": false,
       "layout": "IPY_MODEL_57ae58fa7db847d3b5bfedafc9de8a2c",
       "max": 20000.0,
       "min": 0.0,
       "orientation": "horizontal",
       "style": "IPY_MODEL_831a14d9fc754853a29f7437655d3660",
       "tabbable": null,
       "tooltip": null,
       "value": 20000.0
      }
     },
     "e1fd610b33ee415ab344c38b758203bb": {
      "model_module": "@jupyter-widgets/base",
      "model_module_version": "2.0.0",
      "model_name": "LayoutModel",
      "state": {
       "_model_module": "@jupyter-widgets/base",
       "_model_module_version": "2.0.0",
       "_model_name": "LayoutModel",
       "_view_count": null,
       "_view_module": "@jupyter-widgets/base",
       "_view_module_version": "2.0.0",
       "_view_name": "LayoutView",
       "align_content": null,
       "align_items": null,
       "align_self": null,
       "border_bottom": null,
       "border_left": null,
       "border_right": null,
       "border_top": null,
       "bottom": null,
       "display": null,
       "flex": null,
       "flex_flow": null,
       "grid_area": null,
       "grid_auto_columns": null,
       "grid_auto_flow": null,
       "grid_auto_rows": null,
       "grid_column": null,
       "grid_gap": null,
       "grid_row": null,
       "grid_template_areas": null,
       "grid_template_columns": null,
       "grid_template_rows": null,
       "height": null,
       "justify_content": null,
       "justify_items": null,
       "left": null,
       "margin": null,
       "max_height": null,
       "max_width": null,
       "min_height": null,
       "min_width": null,
       "object_fit": null,
       "object_position": null,
       "order": null,
       "overflow": null,
       "padding": null,
       "right": null,
       "top": null,
       "visibility": null,
       "width": null
      }
     },
     "f0a9e7728b27465caf2eb63bcf72e79d": {
      "model_module": "@jupyter-widgets/controls",
      "model_module_version": "2.0.0",
      "model_name": "HBoxModel",
      "state": {
       "_dom_classes": [],
       "_model_module": "@jupyter-widgets/controls",
       "_model_module_version": "2.0.0",
       "_model_name": "HBoxModel",
       "_view_count": null,
       "_view_module": "@jupyter-widgets/controls",
       "_view_module_version": "2.0.0",
       "_view_name": "HBoxView",
       "box_style": "",
       "children": [
        "IPY_MODEL_1fa37330961b426a836c833651b7ab90",
        "IPY_MODEL_dee97cf9891847e394f51f24871ed0bf",
        "IPY_MODEL_73ba4c4f2e8e42b1b667aa359e79743c"
       ],
       "layout": "IPY_MODEL_d0cdfd10cb5d4dba8bfb893847394d70",
       "tabbable": null,
       "tooltip": null
      }
     }
    },
    "version_major": 2,
    "version_minor": 0
   }
  }
 },
 "nbformat": 4,
 "nbformat_minor": 0
}
